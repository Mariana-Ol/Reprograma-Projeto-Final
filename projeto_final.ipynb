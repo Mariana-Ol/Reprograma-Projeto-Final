{
 "cells": [
  {
   "cell_type": "code",
   "execution_count": 1,
   "metadata": {},
   "outputs": [],
   "source": [
    "import pandas as pd\n",
    "import matplotlib.pyplot as plt\n",
    "import numpy as np\n",
    "import seaborn as sns\n",
    "sns.set_style('whitegrid')"
   ]
  },
  {
   "cell_type": "markdown",
   "metadata": {},
   "source": [
    "### Trabalhando com a base de dados do SAEB referente aos alunos do 9º ano do estado do Rio de Janeiro"
   ]
  },
  {
   "cell_type": "markdown",
   "metadata": {},
   "source": [
    "#### Lendo e tratando a base de dados"
   ]
  },
  {
   "cell_type": "code",
   "execution_count": 2,
   "metadata": {},
   "outputs": [],
   "source": [
    "colunas = ['ID_UF' , 'ID_AREA', 'IN_PUBLICA',\n",
    "           'PROFICIENCIA_MT_SAEB', 'TX_RESP_Q01', 'TX_RESP_Q02', \n",
    "           'TX_RESP_Q04', 'TX_RESP_Q11c', 'TX_RESP_Q11h', 'TX_RESP_Q12b', 'TX_RESP_Q18', 'TX_RESP_Q20b']"
   ]
  },
  {
   "cell_type": "code",
   "execution_count": 3,
   "metadata": {},
   "outputs": [],
   "source": [
    "df = pd.read_csv('TS_ALUNO_9EF.csv', sep=';', usecols = colunas)"
   ]
  },
  {
   "cell_type": "code",
   "execution_count": 4,
   "metadata": {},
   "outputs": [
    {
     "data": {
      "text/html": [
       "<div>\n",
       "<style scoped>\n",
       "    .dataframe tbody tr th:only-of-type {\n",
       "        vertical-align: middle;\n",
       "    }\n",
       "\n",
       "    .dataframe tbody tr th {\n",
       "        vertical-align: top;\n",
       "    }\n",
       "\n",
       "    .dataframe thead th {\n",
       "        text-align: right;\n",
       "    }\n",
       "</style>\n",
       "<table border=\"1\" class=\"dataframe\">\n",
       "  <thead>\n",
       "    <tr style=\"text-align: right;\">\n",
       "      <th></th>\n",
       "      <th>ID_UF</th>\n",
       "      <th>ID_AREA</th>\n",
       "      <th>IN_PUBLICA</th>\n",
       "      <th>PROFICIENCIA_MT_SAEB</th>\n",
       "      <th>TX_RESP_Q01</th>\n",
       "      <th>TX_RESP_Q02</th>\n",
       "      <th>TX_RESP_Q04</th>\n",
       "      <th>TX_RESP_Q11c</th>\n",
       "      <th>TX_RESP_Q11h</th>\n",
       "      <th>TX_RESP_Q12b</th>\n",
       "      <th>TX_RESP_Q18</th>\n",
       "      <th>TX_RESP_Q20b</th>\n",
       "    </tr>\n",
       "  </thead>\n",
       "  <tbody>\n",
       "    <tr>\n",
       "      <th>0</th>\n",
       "      <td>11</td>\n",
       "      <td>2</td>\n",
       "      <td>1</td>\n",
       "      <td>234.739479</td>\n",
       "      <td>A</td>\n",
       "      <td>B</td>\n",
       "      <td>A</td>\n",
       "      <td>A</td>\n",
       "      <td>D</td>\n",
       "      <td>B</td>\n",
       "      <td>A</td>\n",
       "      <td>B</td>\n",
       "    </tr>\n",
       "    <tr>\n",
       "      <th>1</th>\n",
       "      <td>11</td>\n",
       "      <td>2</td>\n",
       "      <td>1</td>\n",
       "      <td>165.188854</td>\n",
       "      <td>A</td>\n",
       "      <td>E</td>\n",
       "      <td>C</td>\n",
       "      <td>B</td>\n",
       "      <td>D</td>\n",
       "      <td>B</td>\n",
       "      <td>C</td>\n",
       "      <td>D</td>\n",
       "    </tr>\n",
       "    <tr>\n",
       "      <th>2</th>\n",
       "      <td>11</td>\n",
       "      <td>2</td>\n",
       "      <td>1</td>\n",
       "      <td>NaN</td>\n",
       "      <td>.</td>\n",
       "      <td>.</td>\n",
       "      <td>.</td>\n",
       "      <td>.</td>\n",
       "      <td>.</td>\n",
       "      <td>.</td>\n",
       "      <td>.</td>\n",
       "      <td>.</td>\n",
       "    </tr>\n",
       "    <tr>\n",
       "      <th>3</th>\n",
       "      <td>11</td>\n",
       "      <td>2</td>\n",
       "      <td>1</td>\n",
       "      <td>NaN</td>\n",
       "      <td>.</td>\n",
       "      <td>.</td>\n",
       "      <td>.</td>\n",
       "      <td>.</td>\n",
       "      <td>.</td>\n",
       "      <td>.</td>\n",
       "      <td>.</td>\n",
       "      <td>.</td>\n",
       "    </tr>\n",
       "    <tr>\n",
       "      <th>4</th>\n",
       "      <td>11</td>\n",
       "      <td>2</td>\n",
       "      <td>1</td>\n",
       "      <td>208.589694</td>\n",
       "      <td>B</td>\n",
       "      <td>B</td>\n",
       "      <td>A</td>\n",
       "      <td>C</td>\n",
       "      <td>D</td>\n",
       "      <td>B</td>\n",
       "      <td>.</td>\n",
       "      <td>*</td>\n",
       "    </tr>\n",
       "    <tr>\n",
       "      <th>...</th>\n",
       "      <td>...</td>\n",
       "      <td>...</td>\n",
       "      <td>...</td>\n",
       "      <td>...</td>\n",
       "      <td>...</td>\n",
       "      <td>...</td>\n",
       "      <td>...</td>\n",
       "      <td>...</td>\n",
       "      <td>...</td>\n",
       "      <td>...</td>\n",
       "      <td>...</td>\n",
       "      <td>...</td>\n",
       "    </tr>\n",
       "    <tr>\n",
       "      <th>2591932</th>\n",
       "      <td>53</td>\n",
       "      <td>1</td>\n",
       "      <td>0</td>\n",
       "      <td>NaN</td>\n",
       "      <td>.</td>\n",
       "      <td>.</td>\n",
       "      <td>.</td>\n",
       "      <td>.</td>\n",
       "      <td>.</td>\n",
       "      <td>.</td>\n",
       "      <td>.</td>\n",
       "      <td>.</td>\n",
       "    </tr>\n",
       "    <tr>\n",
       "      <th>2591933</th>\n",
       "      <td>53</td>\n",
       "      <td>1</td>\n",
       "      <td>0</td>\n",
       "      <td>NaN</td>\n",
       "      <td>.</td>\n",
       "      <td>.</td>\n",
       "      <td>.</td>\n",
       "      <td>.</td>\n",
       "      <td>.</td>\n",
       "      <td>.</td>\n",
       "      <td>.</td>\n",
       "      <td>.</td>\n",
       "    </tr>\n",
       "    <tr>\n",
       "      <th>2591934</th>\n",
       "      <td>53</td>\n",
       "      <td>1</td>\n",
       "      <td>0</td>\n",
       "      <td>NaN</td>\n",
       "      <td>.</td>\n",
       "      <td>.</td>\n",
       "      <td>.</td>\n",
       "      <td>.</td>\n",
       "      <td>.</td>\n",
       "      <td>.</td>\n",
       "      <td>.</td>\n",
       "      <td>.</td>\n",
       "    </tr>\n",
       "    <tr>\n",
       "      <th>2591935</th>\n",
       "      <td>53</td>\n",
       "      <td>1</td>\n",
       "      <td>0</td>\n",
       "      <td>NaN</td>\n",
       "      <td>.</td>\n",
       "      <td>.</td>\n",
       "      <td>.</td>\n",
       "      <td>.</td>\n",
       "      <td>.</td>\n",
       "      <td>.</td>\n",
       "      <td>.</td>\n",
       "      <td>.</td>\n",
       "    </tr>\n",
       "    <tr>\n",
       "      <th>2591936</th>\n",
       "      <td>53</td>\n",
       "      <td>1</td>\n",
       "      <td>0</td>\n",
       "      <td>NaN</td>\n",
       "      <td>.</td>\n",
       "      <td>.</td>\n",
       "      <td>.</td>\n",
       "      <td>.</td>\n",
       "      <td>.</td>\n",
       "      <td>.</td>\n",
       "      <td>.</td>\n",
       "      <td>.</td>\n",
       "    </tr>\n",
       "  </tbody>\n",
       "</table>\n",
       "<p>2591937 rows × 12 columns</p>\n",
       "</div>"
      ],
      "text/plain": [
       "         ID_UF  ID_AREA  IN_PUBLICA  PROFICIENCIA_MT_SAEB TX_RESP_Q01  \\\n",
       "0           11        2           1            234.739479           A   \n",
       "1           11        2           1            165.188854           A   \n",
       "2           11        2           1                   NaN           .   \n",
       "3           11        2           1                   NaN           .   \n",
       "4           11        2           1            208.589694           B   \n",
       "...        ...      ...         ...                   ...         ...   \n",
       "2591932     53        1           0                   NaN           .   \n",
       "2591933     53        1           0                   NaN           .   \n",
       "2591934     53        1           0                   NaN           .   \n",
       "2591935     53        1           0                   NaN           .   \n",
       "2591936     53        1           0                   NaN           .   \n",
       "\n",
       "        TX_RESP_Q02 TX_RESP_Q04 TX_RESP_Q11c TX_RESP_Q11h TX_RESP_Q12b  \\\n",
       "0                 B           A            A            D            B   \n",
       "1                 E           C            B            D            B   \n",
       "2                 .           .            .            .            .   \n",
       "3                 .           .            .            .            .   \n",
       "4                 B           A            C            D            B   \n",
       "...             ...         ...          ...          ...          ...   \n",
       "2591932           .           .            .            .            .   \n",
       "2591933           .           .            .            .            .   \n",
       "2591934           .           .            .            .            .   \n",
       "2591935           .           .            .            .            .   \n",
       "2591936           .           .            .            .            .   \n",
       "\n",
       "        TX_RESP_Q18 TX_RESP_Q20b  \n",
       "0                 A            B  \n",
       "1                 C            D  \n",
       "2                 .            .  \n",
       "3                 .            .  \n",
       "4                 .            *  \n",
       "...             ...          ...  \n",
       "2591932           .            .  \n",
       "2591933           .            .  \n",
       "2591934           .            .  \n",
       "2591935           .            .  \n",
       "2591936           .            .  \n",
       "\n",
       "[2591937 rows x 12 columns]"
      ]
     },
     "execution_count": 4,
     "metadata": {},
     "output_type": "execute_result"
    }
   ],
   "source": [
    "df"
   ]
  },
  {
   "cell_type": "code",
   "execution_count": 5,
   "metadata": {},
   "outputs": [
    {
     "data": {
      "text/plain": [
       "Index(['ID_UF', 'ID_AREA', 'IN_PUBLICA', 'PROFICIENCIA_MT_SAEB', 'TX_RESP_Q01',\n",
       "       'TX_RESP_Q02', 'TX_RESP_Q04', 'TX_RESP_Q11c', 'TX_RESP_Q11h',\n",
       "       'TX_RESP_Q12b', 'TX_RESP_Q18', 'TX_RESP_Q20b'],\n",
       "      dtype='object')"
      ]
     },
     "execution_count": 5,
     "metadata": {},
     "output_type": "execute_result"
    }
   ],
   "source": [
    "df.columns"
   ]
  },
  {
   "cell_type": "code",
   "execution_count": 6,
   "metadata": {},
   "outputs": [],
   "source": [
    "df.columns = ['UF', 'Área', 'Pública ou privada?', 'Proficiência em matemática', 'Gênero',\n",
    "       'Idade', 'Cor', 'Quantos computadores têm na sua casa?', 'Quantos celulares com internet têm na sua casa?',\n",
    "       'Na sua casa tem Wi-fi?', 'Você já foi reprovado(a)?', 'Fora da escola em dias de aula, quanto tempo você usa para estudar?']"
   ]
  },
  {
   "cell_type": "code",
   "execution_count": 7,
   "metadata": {},
   "outputs": [],
   "source": [
    "df['Área'] = df['Área'].replace({1 : 'capital', 2 : 'interior'})\n"
   ]
  },
  {
   "cell_type": "code",
   "execution_count": 8,
   "metadata": {},
   "outputs": [],
   "source": [
    "df['Gênero'] = df['Gênero'].replace({'A' : 'Masculino', 'B' : 'Feminino', '*' : 'Nulo', '.' : 'Branco'})"
   ]
  },
  {
   "cell_type": "code",
   "execution_count": 9,
   "metadata": {},
   "outputs": [],
   "source": [
    "df['Idade'] = df['Idade'].replace({'A' : '13 anos ou menos', 'B' : '14 anos', 'C' : '15 anos', 'D' : '16 anos', 'E' : '17 anos', 'F' : '18 anos ou mais', '*' : 'Nulo', '.' : 'Branco' })"
   ]
  },
  {
   "cell_type": "code",
   "execution_count": 10,
   "metadata": {},
   "outputs": [],
   "source": [
    "df['Cor'] = df['Cor'].replace({'A' : 'Branca', 'B' : 'Preta', 'C' : 'Parda', 'D' : 'Amarela', 'E' : 'Indígena', 'F' : 'Não declarado', '*' : 'Nulo', '.' : 'Branco' })"
   ]
  },
  {
   "cell_type": "code",
   "execution_count": 11,
   "metadata": {},
   "outputs": [],
   "source": [
    "df['Quantos computadores têm na sua casa?'] = df['Quantos computadores têm na sua casa?'].replace({'A' : 'Nenhum', 'B' : '1', 'C' : '2', 'D' : '3 ou mais', '*' : 'Nulo', '.' : 'Branco'})"
   ]
  },
  {
   "cell_type": "code",
   "execution_count": 12,
   "metadata": {},
   "outputs": [],
   "source": [
    "df['Quantos celulares com internet têm na sua casa?'] = df['Quantos celulares com internet têm na sua casa?'].replace({'A' : 'Nenhum', 'B' : '1', 'C' : '2', 'D' : '3 ou mais', '*' : 'Nulo', '.' : 'Branco'})"
   ]
  },
  {
   "cell_type": "code",
   "execution_count": 13,
   "metadata": {},
   "outputs": [],
   "source": [
    "df['Na sua casa tem Wi-fi?'] = df['Na sua casa tem Wi-fi?'].replace({'A' : 'Não', 'B' : 'Sim', '*' : 'Nulo', '.' : 'Branco'})"
   ]
  },
  {
   "cell_type": "code",
   "execution_count": 14,
   "metadata": {},
   "outputs": [],
   "source": [
    "df['Fora da escola em dias de aula, quanto tempo você usa para estudar?'] = df['Fora da escola em dias de aula, quanto tempo você usa para estudar?'].replace({'A' : 'Nenhuma', 'B' : 'Menos de 1 hora', 'C' : 'Entre 1 e 2 horas', 'D' : 'Mais de 2 horas', '*' : 'Nulo', '.' : 'Branco'})"
   ]
  },
  {
   "cell_type": "code",
   "execution_count": 15,
   "metadata": {},
   "outputs": [],
   "source": [
    "df['Você já foi reprovado(a)?'] = df['Você já foi reprovado(a)?'].replace({'A' : 'Não', 'B' : '1 vez', 'C' : '2 vezes ou mais', '*' : 'Nulo', '.' : 'Branco'})"
   ]
  },
  {
   "cell_type": "code",
   "execution_count": 16,
   "metadata": {},
   "outputs": [
    {
     "data": {
      "text/html": [
       "<div>\n",
       "<style scoped>\n",
       "    .dataframe tbody tr th:only-of-type {\n",
       "        vertical-align: middle;\n",
       "    }\n",
       "\n",
       "    .dataframe tbody tr th {\n",
       "        vertical-align: top;\n",
       "    }\n",
       "\n",
       "    .dataframe thead th {\n",
       "        text-align: right;\n",
       "    }\n",
       "</style>\n",
       "<table border=\"1\" class=\"dataframe\">\n",
       "  <thead>\n",
       "    <tr style=\"text-align: right;\">\n",
       "      <th></th>\n",
       "      <th>UF</th>\n",
       "      <th>Área</th>\n",
       "      <th>Pública ou privada?</th>\n",
       "      <th>Proficiência em matemática</th>\n",
       "      <th>Gênero</th>\n",
       "      <th>Idade</th>\n",
       "      <th>Cor</th>\n",
       "      <th>Quantos computadores têm na sua casa?</th>\n",
       "      <th>Quantos celulares com internet têm na sua casa?</th>\n",
       "      <th>Na sua casa tem Wi-fi?</th>\n",
       "      <th>Você já foi reprovado(a)?</th>\n",
       "      <th>Fora da escola em dias de aula, quanto tempo você usa para estudar?</th>\n",
       "    </tr>\n",
       "  </thead>\n",
       "  <tbody>\n",
       "    <tr>\n",
       "      <th>0</th>\n",
       "      <td>11</td>\n",
       "      <td>interior</td>\n",
       "      <td>1</td>\n",
       "      <td>234.739479</td>\n",
       "      <td>Masculino</td>\n",
       "      <td>14 anos</td>\n",
       "      <td>Branca</td>\n",
       "      <td>Nenhum</td>\n",
       "      <td>3 ou mais</td>\n",
       "      <td>Sim</td>\n",
       "      <td>Não</td>\n",
       "      <td>Menos de 1 hora</td>\n",
       "    </tr>\n",
       "    <tr>\n",
       "      <th>1</th>\n",
       "      <td>11</td>\n",
       "      <td>interior</td>\n",
       "      <td>1</td>\n",
       "      <td>165.188854</td>\n",
       "      <td>Masculino</td>\n",
       "      <td>17 anos</td>\n",
       "      <td>Parda</td>\n",
       "      <td>1</td>\n",
       "      <td>3 ou mais</td>\n",
       "      <td>Sim</td>\n",
       "      <td>2 vezes ou mais</td>\n",
       "      <td>Mais de 2 horas</td>\n",
       "    </tr>\n",
       "    <tr>\n",
       "      <th>2</th>\n",
       "      <td>11</td>\n",
       "      <td>interior</td>\n",
       "      <td>1</td>\n",
       "      <td>NaN</td>\n",
       "      <td>Branco</td>\n",
       "      <td>Branco</td>\n",
       "      <td>Branco</td>\n",
       "      <td>Branco</td>\n",
       "      <td>Branco</td>\n",
       "      <td>Branco</td>\n",
       "      <td>Branco</td>\n",
       "      <td>Branco</td>\n",
       "    </tr>\n",
       "    <tr>\n",
       "      <th>3</th>\n",
       "      <td>11</td>\n",
       "      <td>interior</td>\n",
       "      <td>1</td>\n",
       "      <td>NaN</td>\n",
       "      <td>Branco</td>\n",
       "      <td>Branco</td>\n",
       "      <td>Branco</td>\n",
       "      <td>Branco</td>\n",
       "      <td>Branco</td>\n",
       "      <td>Branco</td>\n",
       "      <td>Branco</td>\n",
       "      <td>Branco</td>\n",
       "    </tr>\n",
       "    <tr>\n",
       "      <th>4</th>\n",
       "      <td>11</td>\n",
       "      <td>interior</td>\n",
       "      <td>1</td>\n",
       "      <td>208.589694</td>\n",
       "      <td>Feminino</td>\n",
       "      <td>14 anos</td>\n",
       "      <td>Branca</td>\n",
       "      <td>2</td>\n",
       "      <td>3 ou mais</td>\n",
       "      <td>Sim</td>\n",
       "      <td>Branco</td>\n",
       "      <td>Nulo</td>\n",
       "    </tr>\n",
       "    <tr>\n",
       "      <th>...</th>\n",
       "      <td>...</td>\n",
       "      <td>...</td>\n",
       "      <td>...</td>\n",
       "      <td>...</td>\n",
       "      <td>...</td>\n",
       "      <td>...</td>\n",
       "      <td>...</td>\n",
       "      <td>...</td>\n",
       "      <td>...</td>\n",
       "      <td>...</td>\n",
       "      <td>...</td>\n",
       "      <td>...</td>\n",
       "    </tr>\n",
       "    <tr>\n",
       "      <th>2591932</th>\n",
       "      <td>53</td>\n",
       "      <td>capital</td>\n",
       "      <td>0</td>\n",
       "      <td>NaN</td>\n",
       "      <td>Branco</td>\n",
       "      <td>Branco</td>\n",
       "      <td>Branco</td>\n",
       "      <td>Branco</td>\n",
       "      <td>Branco</td>\n",
       "      <td>Branco</td>\n",
       "      <td>Branco</td>\n",
       "      <td>Branco</td>\n",
       "    </tr>\n",
       "    <tr>\n",
       "      <th>2591933</th>\n",
       "      <td>53</td>\n",
       "      <td>capital</td>\n",
       "      <td>0</td>\n",
       "      <td>NaN</td>\n",
       "      <td>Branco</td>\n",
       "      <td>Branco</td>\n",
       "      <td>Branco</td>\n",
       "      <td>Branco</td>\n",
       "      <td>Branco</td>\n",
       "      <td>Branco</td>\n",
       "      <td>Branco</td>\n",
       "      <td>Branco</td>\n",
       "    </tr>\n",
       "    <tr>\n",
       "      <th>2591934</th>\n",
       "      <td>53</td>\n",
       "      <td>capital</td>\n",
       "      <td>0</td>\n",
       "      <td>NaN</td>\n",
       "      <td>Branco</td>\n",
       "      <td>Branco</td>\n",
       "      <td>Branco</td>\n",
       "      <td>Branco</td>\n",
       "      <td>Branco</td>\n",
       "      <td>Branco</td>\n",
       "      <td>Branco</td>\n",
       "      <td>Branco</td>\n",
       "    </tr>\n",
       "    <tr>\n",
       "      <th>2591935</th>\n",
       "      <td>53</td>\n",
       "      <td>capital</td>\n",
       "      <td>0</td>\n",
       "      <td>NaN</td>\n",
       "      <td>Branco</td>\n",
       "      <td>Branco</td>\n",
       "      <td>Branco</td>\n",
       "      <td>Branco</td>\n",
       "      <td>Branco</td>\n",
       "      <td>Branco</td>\n",
       "      <td>Branco</td>\n",
       "      <td>Branco</td>\n",
       "    </tr>\n",
       "    <tr>\n",
       "      <th>2591936</th>\n",
       "      <td>53</td>\n",
       "      <td>capital</td>\n",
       "      <td>0</td>\n",
       "      <td>NaN</td>\n",
       "      <td>Branco</td>\n",
       "      <td>Branco</td>\n",
       "      <td>Branco</td>\n",
       "      <td>Branco</td>\n",
       "      <td>Branco</td>\n",
       "      <td>Branco</td>\n",
       "      <td>Branco</td>\n",
       "      <td>Branco</td>\n",
       "    </tr>\n",
       "  </tbody>\n",
       "</table>\n",
       "<p>2591937 rows × 12 columns</p>\n",
       "</div>"
      ],
      "text/plain": [
       "         UF      Área  Pública ou privada?  Proficiência em matemática  \\\n",
       "0        11  interior                    1                  234.739479   \n",
       "1        11  interior                    1                  165.188854   \n",
       "2        11  interior                    1                         NaN   \n",
       "3        11  interior                    1                         NaN   \n",
       "4        11  interior                    1                  208.589694   \n",
       "...      ..       ...                  ...                         ...   \n",
       "2591932  53   capital                    0                         NaN   \n",
       "2591933  53   capital                    0                         NaN   \n",
       "2591934  53   capital                    0                         NaN   \n",
       "2591935  53   capital                    0                         NaN   \n",
       "2591936  53   capital                    0                         NaN   \n",
       "\n",
       "            Gênero    Idade     Cor Quantos computadores têm na sua casa?  \\\n",
       "0        Masculino  14 anos  Branca                                Nenhum   \n",
       "1        Masculino  17 anos   Parda                                     1   \n",
       "2           Branco   Branco  Branco                                Branco   \n",
       "3           Branco   Branco  Branco                                Branco   \n",
       "4         Feminino  14 anos  Branca                                     2   \n",
       "...            ...      ...     ...                                   ...   \n",
       "2591932     Branco   Branco  Branco                                Branco   \n",
       "2591933     Branco   Branco  Branco                                Branco   \n",
       "2591934     Branco   Branco  Branco                                Branco   \n",
       "2591935     Branco   Branco  Branco                                Branco   \n",
       "2591936     Branco   Branco  Branco                                Branco   \n",
       "\n",
       "        Quantos celulares com internet têm na sua casa?  \\\n",
       "0                                             3 ou mais   \n",
       "1                                             3 ou mais   \n",
       "2                                                Branco   \n",
       "3                                                Branco   \n",
       "4                                             3 ou mais   \n",
       "...                                                 ...   \n",
       "2591932                                          Branco   \n",
       "2591933                                          Branco   \n",
       "2591934                                          Branco   \n",
       "2591935                                          Branco   \n",
       "2591936                                          Branco   \n",
       "\n",
       "        Na sua casa tem Wi-fi? Você já foi reprovado(a)?  \\\n",
       "0                          Sim                       Não   \n",
       "1                          Sim           2 vezes ou mais   \n",
       "2                       Branco                    Branco   \n",
       "3                       Branco                    Branco   \n",
       "4                          Sim                    Branco   \n",
       "...                        ...                       ...   \n",
       "2591932                 Branco                    Branco   \n",
       "2591933                 Branco                    Branco   \n",
       "2591934                 Branco                    Branco   \n",
       "2591935                 Branco                    Branco   \n",
       "2591936                 Branco                    Branco   \n",
       "\n",
       "        Fora da escola em dias de aula, quanto tempo você usa para estudar?  \n",
       "0                                          Menos de 1 hora                   \n",
       "1                                          Mais de 2 horas                   \n",
       "2                                                   Branco                   \n",
       "3                                                   Branco                   \n",
       "4                                                     Nulo                   \n",
       "...                                                    ...                   \n",
       "2591932                                             Branco                   \n",
       "2591933                                             Branco                   \n",
       "2591934                                             Branco                   \n",
       "2591935                                             Branco                   \n",
       "2591936                                             Branco                   \n",
       "\n",
       "[2591937 rows x 12 columns]"
      ]
     },
     "execution_count": 16,
     "metadata": {},
     "output_type": "execute_result"
    }
   ],
   "source": [
    "df"
   ]
  },
  {
   "cell_type": "code",
   "execution_count": 17,
   "metadata": {},
   "outputs": [
    {
     "data": {
      "text/plain": [
       "UF                                                                       int64\n",
       "Área                                                                    object\n",
       "Pública ou privada?                                                      int64\n",
       "Proficiência em matemática                                             float64\n",
       "Gênero                                                                  object\n",
       "Idade                                                                   object\n",
       "Cor                                                                     object\n",
       "Quantos computadores têm na sua casa?                                   object\n",
       "Quantos celulares com internet têm na sua casa?                         object\n",
       "Na sua casa tem Wi-fi?                                                  object\n",
       "Você já foi reprovado(a)?                                               object\n",
       "Fora da escola em dias de aula, quanto tempo você usa para estudar?     object\n",
       "dtype: object"
      ]
     },
     "execution_count": 17,
     "metadata": {},
     "output_type": "execute_result"
    }
   ],
   "source": [
    "df.dtypes"
   ]
  },
  {
   "cell_type": "code",
   "execution_count": 18,
   "metadata": {},
   "outputs": [],
   "source": [
    "# excluindo as entradas duplicadas (pelo que analisei, são as entradas correspondentes aos dados não preenchidos, ou seja, às provas de matemática que não foram preenchidas)\n",
    "\n",
    "df = df.drop_duplicates()\n"
   ]
  },
  {
   "cell_type": "code",
   "execution_count": 19,
   "metadata": {},
   "outputs": [
    {
     "data": {
      "text/plain": [
       "(1913036, 12)"
      ]
     },
     "execution_count": 19,
     "metadata": {},
     "output_type": "execute_result"
    }
   ],
   "source": [
    "df.shape"
   ]
  },
  {
   "cell_type": "code",
   "execution_count": 20,
   "metadata": {},
   "outputs": [
    {
     "data": {
      "text/plain": [
       "UF                                                                       0\n",
       "Área                                                                     0\n",
       "Pública ou privada?                                                      0\n",
       "Proficiência em matemática                                             904\n",
       "Gênero                                                                   0\n",
       "Idade                                                                    0\n",
       "Cor                                                                      0\n",
       "Quantos computadores têm na sua casa?                                    0\n",
       "Quantos celulares com internet têm na sua casa?                          0\n",
       "Na sua casa tem Wi-fi?                                                   0\n",
       "Você já foi reprovado(a)?                                                0\n",
       "Fora da escola em dias de aula, quanto tempo você usa para estudar?      0\n",
       "dtype: int64"
      ]
     },
     "execution_count": 20,
     "metadata": {},
     "output_type": "execute_result"
    }
   ],
   "source": [
    "df.isnull().sum()"
   ]
  },
  {
   "cell_type": "code",
   "execution_count": 21,
   "metadata": {},
   "outputs": [],
   "source": [
    "#Como o número de entradas nulas na coluna Proficiência em matemática corresponde a um número insignificante diante do total (0,05% das linhas), decidi excluí-las.\n",
    "df = df.dropna(subset=['Proficiência em matemática'])"
   ]
  },
  {
   "cell_type": "code",
   "execution_count": 22,
   "metadata": {},
   "outputs": [
    {
     "data": {
      "text/plain": [
       "(1912132, 12)"
      ]
     },
     "execution_count": 22,
     "metadata": {},
     "output_type": "execute_result"
    }
   ],
   "source": [
    "df.shape"
   ]
  },
  {
   "cell_type": "code",
   "execution_count": 23,
   "metadata": {},
   "outputs": [
    {
     "data": {
      "text/plain": [
       "array([11, 12, 13, 14, 15, 16, 17, 21, 22, 23, 24, 25, 26, 27, 28, 29, 31,\n",
       "       32, 33, 35, 41, 42, 43, 50, 51, 52, 53], dtype=int64)"
      ]
     },
     "execution_count": 23,
     "metadata": {},
     "output_type": "execute_result"
    }
   ],
   "source": [
    "df['UF'].unique()"
   ]
  },
  {
   "cell_type": "markdown",
   "metadata": {},
   "source": [
    "#### Definindo uma dataframe apenas com os dados referentes ao estado do Rio de Janeiro e à rede pública de ensino"
   ]
  },
  {
   "cell_type": "code",
   "execution_count": 28,
   "metadata": {},
   "outputs": [
    {
     "data": {
      "text/html": [
       "<div>\n",
       "<style scoped>\n",
       "    .dataframe tbody tr th:only-of-type {\n",
       "        vertical-align: middle;\n",
       "    }\n",
       "\n",
       "    .dataframe tbody tr th {\n",
       "        vertical-align: top;\n",
       "    }\n",
       "\n",
       "    .dataframe thead th {\n",
       "        text-align: right;\n",
       "    }\n",
       "</style>\n",
       "<table border=\"1\" class=\"dataframe\">\n",
       "  <thead>\n",
       "    <tr style=\"text-align: right;\">\n",
       "      <th></th>\n",
       "      <th>UF</th>\n",
       "      <th>Área</th>\n",
       "      <th>Pública ou privada?</th>\n",
       "      <th>Proficiência em matemática</th>\n",
       "      <th>Gênero</th>\n",
       "      <th>Idade</th>\n",
       "      <th>Cor</th>\n",
       "      <th>Quantos computadores têm na sua casa?</th>\n",
       "      <th>Quantos celulares com internet têm na sua casa?</th>\n",
       "      <th>Na sua casa tem Wi-fi?</th>\n",
       "      <th>Você já foi reprovado(a)?</th>\n",
       "      <th>Fora da escola em dias de aula, quanto tempo você usa para estudar?</th>\n",
       "    </tr>\n",
       "  </thead>\n",
       "  <tbody>\n",
       "    <tr>\n",
       "      <th>1361117</th>\n",
       "      <td>33</td>\n",
       "      <td>interior</td>\n",
       "      <td>1</td>\n",
       "      <td>171.789179</td>\n",
       "      <td>Masculino</td>\n",
       "      <td>14 anos</td>\n",
       "      <td>Parda</td>\n",
       "      <td>Branco</td>\n",
       "      <td>1</td>\n",
       "      <td>Branco</td>\n",
       "      <td>Não</td>\n",
       "      <td>Entre 1 e 2 horas</td>\n",
       "    </tr>\n",
       "    <tr>\n",
       "      <th>1361118</th>\n",
       "      <td>33</td>\n",
       "      <td>interior</td>\n",
       "      <td>1</td>\n",
       "      <td>322.009368</td>\n",
       "      <td>Masculino</td>\n",
       "      <td>14 anos</td>\n",
       "      <td>Parda</td>\n",
       "      <td>2</td>\n",
       "      <td>3 ou mais</td>\n",
       "      <td>Sim</td>\n",
       "      <td>Não</td>\n",
       "      <td>Nenhuma</td>\n",
       "    </tr>\n",
       "    <tr>\n",
       "      <th>1361119</th>\n",
       "      <td>33</td>\n",
       "      <td>interior</td>\n",
       "      <td>1</td>\n",
       "      <td>292.794337</td>\n",
       "      <td>Feminino</td>\n",
       "      <td>15 anos</td>\n",
       "      <td>Preta</td>\n",
       "      <td>1</td>\n",
       "      <td>3 ou mais</td>\n",
       "      <td>Sim</td>\n",
       "      <td>Não</td>\n",
       "      <td>Nenhuma</td>\n",
       "    </tr>\n",
       "    <tr>\n",
       "      <th>1361120</th>\n",
       "      <td>33</td>\n",
       "      <td>interior</td>\n",
       "      <td>1</td>\n",
       "      <td>298.394524</td>\n",
       "      <td>Masculino</td>\n",
       "      <td>15 anos</td>\n",
       "      <td>Branca</td>\n",
       "      <td>2</td>\n",
       "      <td>3 ou mais</td>\n",
       "      <td>Sim</td>\n",
       "      <td>Branco</td>\n",
       "      <td>Branco</td>\n",
       "    </tr>\n",
       "    <tr>\n",
       "      <th>1361121</th>\n",
       "      <td>33</td>\n",
       "      <td>interior</td>\n",
       "      <td>1</td>\n",
       "      <td>234.420557</td>\n",
       "      <td>Feminino</td>\n",
       "      <td>15 anos</td>\n",
       "      <td>Preta</td>\n",
       "      <td>Nenhum</td>\n",
       "      <td>2</td>\n",
       "      <td>Sim</td>\n",
       "      <td>Não</td>\n",
       "      <td>Nulo</td>\n",
       "    </tr>\n",
       "    <tr>\n",
       "      <th>...</th>\n",
       "      <td>...</td>\n",
       "      <td>...</td>\n",
       "      <td>...</td>\n",
       "      <td>...</td>\n",
       "      <td>...</td>\n",
       "      <td>...</td>\n",
       "      <td>...</td>\n",
       "      <td>...</td>\n",
       "      <td>...</td>\n",
       "      <td>...</td>\n",
       "      <td>...</td>\n",
       "      <td>...</td>\n",
       "    </tr>\n",
       "    <tr>\n",
       "      <th>1509352</th>\n",
       "      <td>33</td>\n",
       "      <td>interior</td>\n",
       "      <td>1</td>\n",
       "      <td>167.897676</td>\n",
       "      <td>Masculino</td>\n",
       "      <td>14 anos</td>\n",
       "      <td>Parda</td>\n",
       "      <td>1</td>\n",
       "      <td>3 ou mais</td>\n",
       "      <td>Sim</td>\n",
       "      <td>Não</td>\n",
       "      <td>Nenhuma</td>\n",
       "    </tr>\n",
       "    <tr>\n",
       "      <th>1509353</th>\n",
       "      <td>33</td>\n",
       "      <td>interior</td>\n",
       "      <td>1</td>\n",
       "      <td>255.231227</td>\n",
       "      <td>Masculino</td>\n",
       "      <td>15 anos</td>\n",
       "      <td>Não declarado</td>\n",
       "      <td>1</td>\n",
       "      <td>3 ou mais</td>\n",
       "      <td>Sim</td>\n",
       "      <td>Não</td>\n",
       "      <td>Mais de 2 horas</td>\n",
       "    </tr>\n",
       "    <tr>\n",
       "      <th>1509354</th>\n",
       "      <td>33</td>\n",
       "      <td>interior</td>\n",
       "      <td>1</td>\n",
       "      <td>334.738566</td>\n",
       "      <td>Masculino</td>\n",
       "      <td>14 anos</td>\n",
       "      <td>Parda</td>\n",
       "      <td>Nenhum</td>\n",
       "      <td>3 ou mais</td>\n",
       "      <td>Sim</td>\n",
       "      <td>Não</td>\n",
       "      <td>Nenhuma</td>\n",
       "    </tr>\n",
       "    <tr>\n",
       "      <th>1509356</th>\n",
       "      <td>33</td>\n",
       "      <td>interior</td>\n",
       "      <td>1</td>\n",
       "      <td>291.197269</td>\n",
       "      <td>Masculino</td>\n",
       "      <td>15 anos</td>\n",
       "      <td>Parda</td>\n",
       "      <td>1</td>\n",
       "      <td>3 ou mais</td>\n",
       "      <td>Sim</td>\n",
       "      <td>1 vez</td>\n",
       "      <td>Nenhuma</td>\n",
       "    </tr>\n",
       "    <tr>\n",
       "      <th>1509358</th>\n",
       "      <td>33</td>\n",
       "      <td>interior</td>\n",
       "      <td>1</td>\n",
       "      <td>270.210091</td>\n",
       "      <td>Masculino</td>\n",
       "      <td>15 anos</td>\n",
       "      <td>Branca</td>\n",
       "      <td>1</td>\n",
       "      <td>3 ou mais</td>\n",
       "      <td>Sim</td>\n",
       "      <td>Não</td>\n",
       "      <td>Nenhuma</td>\n",
       "    </tr>\n",
       "  </tbody>\n",
       "</table>\n",
       "<p>104788 rows × 12 columns</p>\n",
       "</div>"
      ],
      "text/plain": [
       "         UF      Área  Pública ou privada?  Proficiência em matemática  \\\n",
       "1361117  33  interior                    1                  171.789179   \n",
       "1361118  33  interior                    1                  322.009368   \n",
       "1361119  33  interior                    1                  292.794337   \n",
       "1361120  33  interior                    1                  298.394524   \n",
       "1361121  33  interior                    1                  234.420557   \n",
       "...      ..       ...                  ...                         ...   \n",
       "1509352  33  interior                    1                  167.897676   \n",
       "1509353  33  interior                    1                  255.231227   \n",
       "1509354  33  interior                    1                  334.738566   \n",
       "1509356  33  interior                    1                  291.197269   \n",
       "1509358  33  interior                    1                  270.210091   \n",
       "\n",
       "            Gênero    Idade            Cor  \\\n",
       "1361117  Masculino  14 anos          Parda   \n",
       "1361118  Masculino  14 anos          Parda   \n",
       "1361119   Feminino  15 anos          Preta   \n",
       "1361120  Masculino  15 anos         Branca   \n",
       "1361121   Feminino  15 anos          Preta   \n",
       "...            ...      ...            ...   \n",
       "1509352  Masculino  14 anos          Parda   \n",
       "1509353  Masculino  15 anos  Não declarado   \n",
       "1509354  Masculino  14 anos          Parda   \n",
       "1509356  Masculino  15 anos          Parda   \n",
       "1509358  Masculino  15 anos         Branca   \n",
       "\n",
       "        Quantos computadores têm na sua casa?  \\\n",
       "1361117                                Branco   \n",
       "1361118                                     2   \n",
       "1361119                                     1   \n",
       "1361120                                     2   \n",
       "1361121                                Nenhum   \n",
       "...                                       ...   \n",
       "1509352                                     1   \n",
       "1509353                                     1   \n",
       "1509354                                Nenhum   \n",
       "1509356                                     1   \n",
       "1509358                                     1   \n",
       "\n",
       "        Quantos celulares com internet têm na sua casa?  \\\n",
       "1361117                                               1   \n",
       "1361118                                       3 ou mais   \n",
       "1361119                                       3 ou mais   \n",
       "1361120                                       3 ou mais   \n",
       "1361121                                               2   \n",
       "...                                                 ...   \n",
       "1509352                                       3 ou mais   \n",
       "1509353                                       3 ou mais   \n",
       "1509354                                       3 ou mais   \n",
       "1509356                                       3 ou mais   \n",
       "1509358                                       3 ou mais   \n",
       "\n",
       "        Na sua casa tem Wi-fi? Você já foi reprovado(a)?  \\\n",
       "1361117                 Branco                       Não   \n",
       "1361118                    Sim                       Não   \n",
       "1361119                    Sim                       Não   \n",
       "1361120                    Sim                    Branco   \n",
       "1361121                    Sim                       Não   \n",
       "...                        ...                       ...   \n",
       "1509352                    Sim                       Não   \n",
       "1509353                    Sim                       Não   \n",
       "1509354                    Sim                       Não   \n",
       "1509356                    Sim                     1 vez   \n",
       "1509358                    Sim                       Não   \n",
       "\n",
       "        Fora da escola em dias de aula, quanto tempo você usa para estudar?  \n",
       "1361117                                  Entre 1 e 2 horas                   \n",
       "1361118                                            Nenhuma                   \n",
       "1361119                                            Nenhuma                   \n",
       "1361120                                             Branco                   \n",
       "1361121                                               Nulo                   \n",
       "...                                                    ...                   \n",
       "1509352                                            Nenhuma                   \n",
       "1509353                                    Mais de 2 horas                   \n",
       "1509354                                            Nenhuma                   \n",
       "1509356                                            Nenhuma                   \n",
       "1509358                                            Nenhuma                   \n",
       "\n",
       "[104788 rows x 12 columns]"
      ]
     },
     "execution_count": 28,
     "metadata": {},
     "output_type": "execute_result"
    }
   ],
   "source": [
    "#Vamos trabalhar apenas com os dados das escolas do estado do Rio de Janeiro, que nesta base de dados corresponde ao número 33.\n",
    "id_uf_rj = [33]\n",
    "df_rj = df[df['UF'].isin(id_uf_rj)]\n",
    "df_rj"
   ]
  },
  {
   "cell_type": "code",
   "execution_count": 25,
   "metadata": {},
   "outputs": [],
   "source": [
    "df_rj.to_csv(\"df_SAEB_tratado.csv\")"
   ]
  },
  {
   "cell_type": "code",
   "execution_count": 29,
   "metadata": {},
   "outputs": [
    {
     "data": {
      "text/html": [
       "<div>\n",
       "<style scoped>\n",
       "    .dataframe tbody tr th:only-of-type {\n",
       "        vertical-align: middle;\n",
       "    }\n",
       "\n",
       "    .dataframe tbody tr th {\n",
       "        vertical-align: top;\n",
       "    }\n",
       "\n",
       "    .dataframe thead th {\n",
       "        text-align: right;\n",
       "    }\n",
       "</style>\n",
       "<table border=\"1\" class=\"dataframe\">\n",
       "  <thead>\n",
       "    <tr style=\"text-align: right;\">\n",
       "      <th></th>\n",
       "      <th>UF</th>\n",
       "      <th>Área</th>\n",
       "      <th>Pública ou privada?</th>\n",
       "      <th>Proficiência em matemática</th>\n",
       "      <th>Gênero</th>\n",
       "      <th>Idade</th>\n",
       "      <th>Cor</th>\n",
       "      <th>Quantos computadores têm na sua casa?</th>\n",
       "      <th>Quantos celulares com internet têm na sua casa?</th>\n",
       "      <th>Na sua casa tem Wi-fi?</th>\n",
       "      <th>Você já foi reprovado(a)?</th>\n",
       "      <th>Fora da escola em dias de aula, quanto tempo você usa para estudar?</th>\n",
       "    </tr>\n",
       "  </thead>\n",
       "  <tbody>\n",
       "    <tr>\n",
       "      <th>1361117</th>\n",
       "      <td>33</td>\n",
       "      <td>interior</td>\n",
       "      <td>1</td>\n",
       "      <td>171.789179</td>\n",
       "      <td>Masculino</td>\n",
       "      <td>14 anos</td>\n",
       "      <td>Parda</td>\n",
       "      <td>Branco</td>\n",
       "      <td>1</td>\n",
       "      <td>Branco</td>\n",
       "      <td>Não</td>\n",
       "      <td>Entre 1 e 2 horas</td>\n",
       "    </tr>\n",
       "    <tr>\n",
       "      <th>1361118</th>\n",
       "      <td>33</td>\n",
       "      <td>interior</td>\n",
       "      <td>1</td>\n",
       "      <td>322.009368</td>\n",
       "      <td>Masculino</td>\n",
       "      <td>14 anos</td>\n",
       "      <td>Parda</td>\n",
       "      <td>2</td>\n",
       "      <td>3 ou mais</td>\n",
       "      <td>Sim</td>\n",
       "      <td>Não</td>\n",
       "      <td>Nenhuma</td>\n",
       "    </tr>\n",
       "    <tr>\n",
       "      <th>1361119</th>\n",
       "      <td>33</td>\n",
       "      <td>interior</td>\n",
       "      <td>1</td>\n",
       "      <td>292.794337</td>\n",
       "      <td>Feminino</td>\n",
       "      <td>15 anos</td>\n",
       "      <td>Preta</td>\n",
       "      <td>1</td>\n",
       "      <td>3 ou mais</td>\n",
       "      <td>Sim</td>\n",
       "      <td>Não</td>\n",
       "      <td>Nenhuma</td>\n",
       "    </tr>\n",
       "    <tr>\n",
       "      <th>1361120</th>\n",
       "      <td>33</td>\n",
       "      <td>interior</td>\n",
       "      <td>1</td>\n",
       "      <td>298.394524</td>\n",
       "      <td>Masculino</td>\n",
       "      <td>15 anos</td>\n",
       "      <td>Branca</td>\n",
       "      <td>2</td>\n",
       "      <td>3 ou mais</td>\n",
       "      <td>Sim</td>\n",
       "      <td>Branco</td>\n",
       "      <td>Branco</td>\n",
       "    </tr>\n",
       "    <tr>\n",
       "      <th>1361121</th>\n",
       "      <td>33</td>\n",
       "      <td>interior</td>\n",
       "      <td>1</td>\n",
       "      <td>234.420557</td>\n",
       "      <td>Feminino</td>\n",
       "      <td>15 anos</td>\n",
       "      <td>Preta</td>\n",
       "      <td>Nenhum</td>\n",
       "      <td>2</td>\n",
       "      <td>Sim</td>\n",
       "      <td>Não</td>\n",
       "      <td>Nulo</td>\n",
       "    </tr>\n",
       "    <tr>\n",
       "      <th>...</th>\n",
       "      <td>...</td>\n",
       "      <td>...</td>\n",
       "      <td>...</td>\n",
       "      <td>...</td>\n",
       "      <td>...</td>\n",
       "      <td>...</td>\n",
       "      <td>...</td>\n",
       "      <td>...</td>\n",
       "      <td>...</td>\n",
       "      <td>...</td>\n",
       "      <td>...</td>\n",
       "      <td>...</td>\n",
       "    </tr>\n",
       "    <tr>\n",
       "      <th>1509352</th>\n",
       "      <td>33</td>\n",
       "      <td>interior</td>\n",
       "      <td>1</td>\n",
       "      <td>167.897676</td>\n",
       "      <td>Masculino</td>\n",
       "      <td>14 anos</td>\n",
       "      <td>Parda</td>\n",
       "      <td>1</td>\n",
       "      <td>3 ou mais</td>\n",
       "      <td>Sim</td>\n",
       "      <td>Não</td>\n",
       "      <td>Nenhuma</td>\n",
       "    </tr>\n",
       "    <tr>\n",
       "      <th>1509353</th>\n",
       "      <td>33</td>\n",
       "      <td>interior</td>\n",
       "      <td>1</td>\n",
       "      <td>255.231227</td>\n",
       "      <td>Masculino</td>\n",
       "      <td>15 anos</td>\n",
       "      <td>Não declarado</td>\n",
       "      <td>1</td>\n",
       "      <td>3 ou mais</td>\n",
       "      <td>Sim</td>\n",
       "      <td>Não</td>\n",
       "      <td>Mais de 2 horas</td>\n",
       "    </tr>\n",
       "    <tr>\n",
       "      <th>1509354</th>\n",
       "      <td>33</td>\n",
       "      <td>interior</td>\n",
       "      <td>1</td>\n",
       "      <td>334.738566</td>\n",
       "      <td>Masculino</td>\n",
       "      <td>14 anos</td>\n",
       "      <td>Parda</td>\n",
       "      <td>Nenhum</td>\n",
       "      <td>3 ou mais</td>\n",
       "      <td>Sim</td>\n",
       "      <td>Não</td>\n",
       "      <td>Nenhuma</td>\n",
       "    </tr>\n",
       "    <tr>\n",
       "      <th>1509356</th>\n",
       "      <td>33</td>\n",
       "      <td>interior</td>\n",
       "      <td>1</td>\n",
       "      <td>291.197269</td>\n",
       "      <td>Masculino</td>\n",
       "      <td>15 anos</td>\n",
       "      <td>Parda</td>\n",
       "      <td>1</td>\n",
       "      <td>3 ou mais</td>\n",
       "      <td>Sim</td>\n",
       "      <td>1 vez</td>\n",
       "      <td>Nenhuma</td>\n",
       "    </tr>\n",
       "    <tr>\n",
       "      <th>1509358</th>\n",
       "      <td>33</td>\n",
       "      <td>interior</td>\n",
       "      <td>1</td>\n",
       "      <td>270.210091</td>\n",
       "      <td>Masculino</td>\n",
       "      <td>15 anos</td>\n",
       "      <td>Branca</td>\n",
       "      <td>1</td>\n",
       "      <td>3 ou mais</td>\n",
       "      <td>Sim</td>\n",
       "      <td>Não</td>\n",
       "      <td>Nenhuma</td>\n",
       "    </tr>\n",
       "  </tbody>\n",
       "</table>\n",
       "<p>104221 rows × 12 columns</p>\n",
       "</div>"
      ],
      "text/plain": [
       "         UF      Área  Pública ou privada?  Proficiência em matemática  \\\n",
       "1361117  33  interior                    1                  171.789179   \n",
       "1361118  33  interior                    1                  322.009368   \n",
       "1361119  33  interior                    1                  292.794337   \n",
       "1361120  33  interior                    1                  298.394524   \n",
       "1361121  33  interior                    1                  234.420557   \n",
       "...      ..       ...                  ...                         ...   \n",
       "1509352  33  interior                    1                  167.897676   \n",
       "1509353  33  interior                    1                  255.231227   \n",
       "1509354  33  interior                    1                  334.738566   \n",
       "1509356  33  interior                    1                  291.197269   \n",
       "1509358  33  interior                    1                  270.210091   \n",
       "\n",
       "            Gênero    Idade            Cor  \\\n",
       "1361117  Masculino  14 anos          Parda   \n",
       "1361118  Masculino  14 anos          Parda   \n",
       "1361119   Feminino  15 anos          Preta   \n",
       "1361120  Masculino  15 anos         Branca   \n",
       "1361121   Feminino  15 anos          Preta   \n",
       "...            ...      ...            ...   \n",
       "1509352  Masculino  14 anos          Parda   \n",
       "1509353  Masculino  15 anos  Não declarado   \n",
       "1509354  Masculino  14 anos          Parda   \n",
       "1509356  Masculino  15 anos          Parda   \n",
       "1509358  Masculino  15 anos         Branca   \n",
       "\n",
       "        Quantos computadores têm na sua casa?  \\\n",
       "1361117                                Branco   \n",
       "1361118                                     2   \n",
       "1361119                                     1   \n",
       "1361120                                     2   \n",
       "1361121                                Nenhum   \n",
       "...                                       ...   \n",
       "1509352                                     1   \n",
       "1509353                                     1   \n",
       "1509354                                Nenhum   \n",
       "1509356                                     1   \n",
       "1509358                                     1   \n",
       "\n",
       "        Quantos celulares com internet têm na sua casa?  \\\n",
       "1361117                                               1   \n",
       "1361118                                       3 ou mais   \n",
       "1361119                                       3 ou mais   \n",
       "1361120                                       3 ou mais   \n",
       "1361121                                               2   \n",
       "...                                                 ...   \n",
       "1509352                                       3 ou mais   \n",
       "1509353                                       3 ou mais   \n",
       "1509354                                       3 ou mais   \n",
       "1509356                                       3 ou mais   \n",
       "1509358                                       3 ou mais   \n",
       "\n",
       "        Na sua casa tem Wi-fi? Você já foi reprovado(a)?  \\\n",
       "1361117                 Branco                       Não   \n",
       "1361118                    Sim                       Não   \n",
       "1361119                    Sim                       Não   \n",
       "1361120                    Sim                    Branco   \n",
       "1361121                    Sim                       Não   \n",
       "...                        ...                       ...   \n",
       "1509352                    Sim                       Não   \n",
       "1509353                    Sim                       Não   \n",
       "1509354                    Sim                       Não   \n",
       "1509356                    Sim                     1 vez   \n",
       "1509358                    Sim                       Não   \n",
       "\n",
       "        Fora da escola em dias de aula, quanto tempo você usa para estudar?  \n",
       "1361117                                  Entre 1 e 2 horas                   \n",
       "1361118                                            Nenhuma                   \n",
       "1361119                                            Nenhuma                   \n",
       "1361120                                             Branco                   \n",
       "1361121                                               Nulo                   \n",
       "...                                                    ...                   \n",
       "1509352                                            Nenhuma                   \n",
       "1509353                                    Mais de 2 horas                   \n",
       "1509354                                            Nenhuma                   \n",
       "1509356                                            Nenhuma                   \n",
       "1509358                                            Nenhuma                   \n",
       "\n",
       "[104221 rows x 12 columns]"
      ]
     },
     "execution_count": 29,
     "metadata": {},
     "output_type": "execute_result"
    }
   ],
   "source": [
    "# Vamos utilizar apenas os dados referentes aos alunos das escolas públicas. \n",
    "#Nesta base de dados, o número 1 corresponde à rede pública e o número 0 à rede privada.\n",
    "publico = [1]\n",
    "df_rj = df_rj[df_rj['Pública ou privada?'].isin(publico)]\n",
    "df_rj"
   ]
  },
  {
   "cell_type": "code",
   "execution_count": 30,
   "metadata": {},
   "outputs": [
    {
     "data": {
      "text/plain": [
       "[Cor\n",
       " Parda            0.361683\n",
       " Branca           0.283542\n",
       " Preta            0.219438\n",
       " Não declarado    0.051727\n",
       " Branco           0.043331\n",
       " Amarela          0.024160\n",
       " Indígena         0.014133\n",
       " Nulo             0.001986\n",
       " Name: proportion, dtype: float64]"
      ]
     },
     "execution_count": 30,
     "metadata": {},
     "output_type": "execute_result"
    }
   ],
   "source": [
    "[df_rj['Cor'].value_counts(normalize=True)]"
   ]
  },
  {
   "cell_type": "code",
   "execution_count": null,
   "metadata": {},
   "outputs": [],
   "source": [
    "df_rj.to_csv(\"df_SAEB_tratado.csv\")"
   ]
  },
  {
   "cell_type": "markdown",
   "metadata": {},
   "source": [
    "#### Vamos utilizar histogramas para visualizar com mais clareza a proficiência em matemática dos alunos do 9º ano da rede pública do estado do RJ inteiro, assim como da capital e do interior do estado separadamente."
   ]
  },
  {
   "cell_type": "code",
   "execution_count": 28,
   "metadata": {},
   "outputs": [
    {
     "data": {
      "text/plain": [
       "Text(0, 0.5, '')"
      ]
     },
     "execution_count": 28,
     "metadata": {},
     "output_type": "execute_result"
    },
    {
     "data": {
      "image/png": "[encoded data removed]",
      "text/plain": [
       "<Figure size 640x480 with 1 Axes>"
      ]
     },
     "metadata": {},
     "output_type": "display_data"
    }
   ],
   "source": [
    "sns.histplot(df_rj['Proficiência em matemática'], kde = True, bins = 50)\n",
    "plt.title('Proficiência dos alunos em matemática no estado do RJ', fontsize = 14)\n",
    "plt.ylabel('')"
   ]
  },
  {
   "cell_type": "markdown",
   "metadata": {},
   "source": [
    "A maior parte dos alunos avaliados tem uma proficiência em matemática de cerca de 250, de acordo com a pesquisa do Saeb. Os pontos fora da curva mais baixos estão próximos de 100 e os mais altos (e mais raros ainda) estão próximos de 400."
   ]
  },
  {
   "cell_type": "code",
   "execution_count": 29,
   "metadata": {},
   "outputs": [
    {
     "data": {
      "text/html": [
       "<div>\n",
       "<style scoped>\n",
       "    .dataframe tbody tr th:only-of-type {\n",
       "        vertical-align: middle;\n",
       "    }\n",
       "\n",
       "    .dataframe tbody tr th {\n",
       "        vertical-align: top;\n",
       "    }\n",
       "\n",
       "    .dataframe thead th {\n",
       "        text-align: right;\n",
       "    }\n",
       "</style>\n",
       "<table border=\"1\" class=\"dataframe\">\n",
       "  <thead>\n",
       "    <tr style=\"text-align: right;\">\n",
       "      <th></th>\n",
       "      <th>UF</th>\n",
       "      <th>Área</th>\n",
       "      <th>Pública ou privada?</th>\n",
       "      <th>Proficiência em matemática</th>\n",
       "      <th>Gênero</th>\n",
       "      <th>Idade</th>\n",
       "      <th>Cor</th>\n",
       "      <th>Quantos computadores têm na sua casa?</th>\n",
       "      <th>Quantos celulares com internet têm na sua casa?</th>\n",
       "      <th>Na sua casa tem Wi-fi?</th>\n",
       "      <th>Você já foi reprovado(a)?</th>\n",
       "      <th>Fora da escola em dias de aula, quanto tempo você usa para estudar?</th>\n",
       "    </tr>\n",
       "  </thead>\n",
       "  <tbody>\n",
       "    <tr>\n",
       "      <th>1361117</th>\n",
       "      <td>33</td>\n",
       "      <td>interior</td>\n",
       "      <td>1</td>\n",
       "      <td>171.789179</td>\n",
       "      <td>Masculino</td>\n",
       "      <td>14 anos</td>\n",
       "      <td>Parda</td>\n",
       "      <td>Branco</td>\n",
       "      <td>1</td>\n",
       "      <td>Branco</td>\n",
       "      <td>Não</td>\n",
       "      <td>Entre 1 e 2 horas</td>\n",
       "    </tr>\n",
       "    <tr>\n",
       "      <th>1361118</th>\n",
       "      <td>33</td>\n",
       "      <td>interior</td>\n",
       "      <td>1</td>\n",
       "      <td>322.009368</td>\n",
       "      <td>Masculino</td>\n",
       "      <td>14 anos</td>\n",
       "      <td>Parda</td>\n",
       "      <td>2</td>\n",
       "      <td>3 ou mais</td>\n",
       "      <td>Sim</td>\n",
       "      <td>Não</td>\n",
       "      <td>Nenhuma</td>\n",
       "    </tr>\n",
       "    <tr>\n",
       "      <th>1361119</th>\n",
       "      <td>33</td>\n",
       "      <td>interior</td>\n",
       "      <td>1</td>\n",
       "      <td>292.794337</td>\n",
       "      <td>Feminino</td>\n",
       "      <td>15 anos</td>\n",
       "      <td>Preta</td>\n",
       "      <td>1</td>\n",
       "      <td>3 ou mais</td>\n",
       "      <td>Sim</td>\n",
       "      <td>Não</td>\n",
       "      <td>Nenhuma</td>\n",
       "    </tr>\n",
       "    <tr>\n",
       "      <th>1361120</th>\n",
       "      <td>33</td>\n",
       "      <td>interior</td>\n",
       "      <td>1</td>\n",
       "      <td>298.394524</td>\n",
       "      <td>Masculino</td>\n",
       "      <td>15 anos</td>\n",
       "      <td>Branca</td>\n",
       "      <td>2</td>\n",
       "      <td>3 ou mais</td>\n",
       "      <td>Sim</td>\n",
       "      <td>Branco</td>\n",
       "      <td>Branco</td>\n",
       "    </tr>\n",
       "    <tr>\n",
       "      <th>1361121</th>\n",
       "      <td>33</td>\n",
       "      <td>interior</td>\n",
       "      <td>1</td>\n",
       "      <td>234.420557</td>\n",
       "      <td>Feminino</td>\n",
       "      <td>15 anos</td>\n",
       "      <td>Preta</td>\n",
       "      <td>Nenhum</td>\n",
       "      <td>2</td>\n",
       "      <td>Sim</td>\n",
       "      <td>Não</td>\n",
       "      <td>Nulo</td>\n",
       "    </tr>\n",
       "    <tr>\n",
       "      <th>...</th>\n",
       "      <td>...</td>\n",
       "      <td>...</td>\n",
       "      <td>...</td>\n",
       "      <td>...</td>\n",
       "      <td>...</td>\n",
       "      <td>...</td>\n",
       "      <td>...</td>\n",
       "      <td>...</td>\n",
       "      <td>...</td>\n",
       "      <td>...</td>\n",
       "      <td>...</td>\n",
       "      <td>...</td>\n",
       "    </tr>\n",
       "    <tr>\n",
       "      <th>1509352</th>\n",
       "      <td>33</td>\n",
       "      <td>interior</td>\n",
       "      <td>1</td>\n",
       "      <td>167.897676</td>\n",
       "      <td>Masculino</td>\n",
       "      <td>14 anos</td>\n",
       "      <td>Parda</td>\n",
       "      <td>1</td>\n",
       "      <td>3 ou mais</td>\n",
       "      <td>Sim</td>\n",
       "      <td>Não</td>\n",
       "      <td>Nenhuma</td>\n",
       "    </tr>\n",
       "    <tr>\n",
       "      <th>1509353</th>\n",
       "      <td>33</td>\n",
       "      <td>interior</td>\n",
       "      <td>1</td>\n",
       "      <td>255.231227</td>\n",
       "      <td>Masculino</td>\n",
       "      <td>15 anos</td>\n",
       "      <td>Não declarado</td>\n",
       "      <td>1</td>\n",
       "      <td>3 ou mais</td>\n",
       "      <td>Sim</td>\n",
       "      <td>Não</td>\n",
       "      <td>Mais de 2 horas</td>\n",
       "    </tr>\n",
       "    <tr>\n",
       "      <th>1509354</th>\n",
       "      <td>33</td>\n",
       "      <td>interior</td>\n",
       "      <td>1</td>\n",
       "      <td>334.738566</td>\n",
       "      <td>Masculino</td>\n",
       "      <td>14 anos</td>\n",
       "      <td>Parda</td>\n",
       "      <td>Nenhum</td>\n",
       "      <td>3 ou mais</td>\n",
       "      <td>Sim</td>\n",
       "      <td>Não</td>\n",
       "      <td>Nenhuma</td>\n",
       "    </tr>\n",
       "    <tr>\n",
       "      <th>1509356</th>\n",
       "      <td>33</td>\n",
       "      <td>interior</td>\n",
       "      <td>1</td>\n",
       "      <td>291.197269</td>\n",
       "      <td>Masculino</td>\n",
       "      <td>15 anos</td>\n",
       "      <td>Parda</td>\n",
       "      <td>1</td>\n",
       "      <td>3 ou mais</td>\n",
       "      <td>Sim</td>\n",
       "      <td>1 vez</td>\n",
       "      <td>Nenhuma</td>\n",
       "    </tr>\n",
       "    <tr>\n",
       "      <th>1509358</th>\n",
       "      <td>33</td>\n",
       "      <td>interior</td>\n",
       "      <td>1</td>\n",
       "      <td>270.210091</td>\n",
       "      <td>Masculino</td>\n",
       "      <td>15 anos</td>\n",
       "      <td>Branca</td>\n",
       "      <td>1</td>\n",
       "      <td>3 ou mais</td>\n",
       "      <td>Sim</td>\n",
       "      <td>Não</td>\n",
       "      <td>Nenhuma</td>\n",
       "    </tr>\n",
       "  </tbody>\n",
       "</table>\n",
       "<p>69556 rows × 12 columns</p>\n",
       "</div>"
      ],
      "text/plain": [
       "         UF      Área  Pública ou privada?  Proficiência em matemática  \\\n",
       "1361117  33  interior                    1                  171.789179   \n",
       "1361118  33  interior                    1                  322.009368   \n",
       "1361119  33  interior                    1                  292.794337   \n",
       "1361120  33  interior                    1                  298.394524   \n",
       "1361121  33  interior                    1                  234.420557   \n",
       "...      ..       ...                  ...                         ...   \n",
       "1509352  33  interior                    1                  167.897676   \n",
       "1509353  33  interior                    1                  255.231227   \n",
       "1509354  33  interior                    1                  334.738566   \n",
       "1509356  33  interior                    1                  291.197269   \n",
       "1509358  33  interior                    1                  270.210091   \n",
       "\n",
       "            Gênero    Idade            Cor  \\\n",
       "1361117  Masculino  14 anos          Parda   \n",
       "1361118  Masculino  14 anos          Parda   \n",
       "1361119   Feminino  15 anos          Preta   \n",
       "1361120  Masculino  15 anos         Branca   \n",
       "1361121   Feminino  15 anos          Preta   \n",
       "...            ...      ...            ...   \n",
       "1509352  Masculino  14 anos          Parda   \n",
       "1509353  Masculino  15 anos  Não declarado   \n",
       "1509354  Masculino  14 anos          Parda   \n",
       "1509356  Masculino  15 anos          Parda   \n",
       "1509358  Masculino  15 anos         Branca   \n",
       "\n",
       "        Quantos computadores têm na sua casa?  \\\n",
       "1361117                                Branco   \n",
       "1361118                                     2   \n",
       "1361119                                     1   \n",
       "1361120                                     2   \n",
       "1361121                                Nenhum   \n",
       "...                                       ...   \n",
       "1509352                                     1   \n",
       "1509353                                     1   \n",
       "1509354                                Nenhum   \n",
       "1509356                                     1   \n",
       "1509358                                     1   \n",
       "\n",
       "        Quantos celulares com internet têm na sua casa?  \\\n",
       "1361117                                               1   \n",
       "1361118                                       3 ou mais   \n",
       "1361119                                       3 ou mais   \n",
       "1361120                                       3 ou mais   \n",
       "1361121                                               2   \n",
       "...                                                 ...   \n",
       "1509352                                       3 ou mais   \n",
       "1509353                                       3 ou mais   \n",
       "1509354                                       3 ou mais   \n",
       "1509356                                       3 ou mais   \n",
       "1509358                                       3 ou mais   \n",
       "\n",
       "        Na sua casa tem Wi-fi? Você já foi reprovado(a)?  \\\n",
       "1361117                 Branco                       Não   \n",
       "1361118                    Sim                       Não   \n",
       "1361119                    Sim                       Não   \n",
       "1361120                    Sim                    Branco   \n",
       "1361121                    Sim                       Não   \n",
       "...                        ...                       ...   \n",
       "1509352                    Sim                       Não   \n",
       "1509353                    Sim                       Não   \n",
       "1509354                    Sim                       Não   \n",
       "1509356                    Sim                     1 vez   \n",
       "1509358                    Sim                       Não   \n",
       "\n",
       "        Fora da escola em dias de aula, quanto tempo você usa para estudar?  \n",
       "1361117                                  Entre 1 e 2 horas                   \n",
       "1361118                                            Nenhuma                   \n",
       "1361119                                            Nenhuma                   \n",
       "1361120                                             Branco                   \n",
       "1361121                                               Nulo                   \n",
       "...                                                    ...                   \n",
       "1509352                                            Nenhuma                   \n",
       "1509353                                    Mais de 2 horas                   \n",
       "1509354                                            Nenhuma                   \n",
       "1509356                                            Nenhuma                   \n",
       "1509358                                            Nenhuma                   \n",
       "\n",
       "[69556 rows x 12 columns]"
      ]
     },
     "execution_count": 29,
     "metadata": {},
     "output_type": "execute_result"
    }
   ],
   "source": [
    "# Nesta etapa, vamos utilizar apenas os dados referentes aos alunos das escolas públicas do interior do estado. \n",
    "#Nesta base de dados, o número 2 corresponde à rede pública do interior e o número 1 à da capital.\n",
    "#interior = [2]\n",
    "df_filtrado_interior = df_rj[df_rj['Área'].str.match('interior')]\n",
    "df_filtrado_interior"
   ]
  },
  {
   "cell_type": "code",
   "execution_count": 30,
   "metadata": {},
   "outputs": [
    {
     "data": {
      "text/plain": [
       "Text(0.5, 1.0, 'Proficiência dos alunos em matemática no interior do RJ')"
      ]
     },
     "execution_count": 30,
     "metadata": {},
     "output_type": "execute_result"
    },
    {
     "data": {
      "image/png": "[encoded data removed]",
      "text/plain": [
       "<Figure size 700x500 with 1 Axes>"
      ]
     },
     "metadata": {},
     "output_type": "display_data"
    }
   ],
   "source": [
    "plt.figure(figsize=(7,5))\n",
    "sns.histplot(df_filtrado_interior['Proficiência em matemática'], kde = True, color = 'orange',bins = 50)\n",
    "plt.xlabel('Valor da proficiência do aluno')\n",
    "plt.ylabel('')\n",
    "plt.title('Proficiência dos alunos em matemática no interior do RJ', fontsize = 14)"
   ]
  },
  {
   "cell_type": "markdown",
   "metadata": {},
   "source": [
    "Na rede pública localizada no interior do RJ há mais alunos do 9º ano com média abaixo de 250. Esses alunos apresentam uma proficiência em matemática menor que a média do estado inteiro."
   ]
  },
  {
   "cell_type": "code",
   "execution_count": 31,
   "metadata": {},
   "outputs": [
    {
     "data": {
      "text/html": [
       "<div>\n",
       "<style scoped>\n",
       "    .dataframe tbody tr th:only-of-type {\n",
       "        vertical-align: middle;\n",
       "    }\n",
       "\n",
       "    .dataframe tbody tr th {\n",
       "        vertical-align: top;\n",
       "    }\n",
       "\n",
       "    .dataframe thead th {\n",
       "        text-align: right;\n",
       "    }\n",
       "</style>\n",
       "<table border=\"1\" class=\"dataframe\">\n",
       "  <thead>\n",
       "    <tr style=\"text-align: right;\">\n",
       "      <th></th>\n",
       "      <th>UF</th>\n",
       "      <th>Área</th>\n",
       "      <th>Pública ou privada?</th>\n",
       "      <th>Proficiência em matemática</th>\n",
       "      <th>Gênero</th>\n",
       "      <th>Idade</th>\n",
       "      <th>Cor</th>\n",
       "      <th>Quantos computadores têm na sua casa?</th>\n",
       "      <th>Quantos celulares com internet têm na sua casa?</th>\n",
       "      <th>Na sua casa tem Wi-fi?</th>\n",
       "      <th>Você já foi reprovado(a)?</th>\n",
       "      <th>Fora da escola em dias de aula, quanto tempo você usa para estudar?</th>\n",
       "    </tr>\n",
       "  </thead>\n",
       "  <tbody>\n",
       "    <tr>\n",
       "      <th>1439451</th>\n",
       "      <td>33</td>\n",
       "      <td>capital</td>\n",
       "      <td>1</td>\n",
       "      <td>198.362460</td>\n",
       "      <td>Feminino</td>\n",
       "      <td>17 anos</td>\n",
       "      <td>Parda</td>\n",
       "      <td>1</td>\n",
       "      <td>2</td>\n",
       "      <td>Sim</td>\n",
       "      <td>1 vez</td>\n",
       "      <td>Entre 1 e 2 horas</td>\n",
       "    </tr>\n",
       "    <tr>\n",
       "      <th>1439452</th>\n",
       "      <td>33</td>\n",
       "      <td>capital</td>\n",
       "      <td>1</td>\n",
       "      <td>218.238442</td>\n",
       "      <td>Feminino</td>\n",
       "      <td>16 anos</td>\n",
       "      <td>Preta</td>\n",
       "      <td>1</td>\n",
       "      <td>2</td>\n",
       "      <td>Sim</td>\n",
       "      <td>1 vez</td>\n",
       "      <td>Nenhuma</td>\n",
       "    </tr>\n",
       "    <tr>\n",
       "      <th>1439454</th>\n",
       "      <td>33</td>\n",
       "      <td>capital</td>\n",
       "      <td>1</td>\n",
       "      <td>254.448678</td>\n",
       "      <td>Feminino</td>\n",
       "      <td>15 anos</td>\n",
       "      <td>Branca</td>\n",
       "      <td>Nenhum</td>\n",
       "      <td>1</td>\n",
       "      <td>Sim</td>\n",
       "      <td>Não</td>\n",
       "      <td>Nenhuma</td>\n",
       "    </tr>\n",
       "    <tr>\n",
       "      <th>1439455</th>\n",
       "      <td>33</td>\n",
       "      <td>capital</td>\n",
       "      <td>1</td>\n",
       "      <td>260.334085</td>\n",
       "      <td>Feminino</td>\n",
       "      <td>14 anos</td>\n",
       "      <td>Preta</td>\n",
       "      <td>Nenhum</td>\n",
       "      <td>2</td>\n",
       "      <td>Não</td>\n",
       "      <td>Não</td>\n",
       "      <td>Nenhuma</td>\n",
       "    </tr>\n",
       "    <tr>\n",
       "      <th>1439456</th>\n",
       "      <td>33</td>\n",
       "      <td>capital</td>\n",
       "      <td>1</td>\n",
       "      <td>239.665940</td>\n",
       "      <td>Feminino</td>\n",
       "      <td>14 anos</td>\n",
       "      <td>Branca</td>\n",
       "      <td>2</td>\n",
       "      <td>3 ou mais</td>\n",
       "      <td>Sim</td>\n",
       "      <td>Não</td>\n",
       "      <td>Nenhuma</td>\n",
       "    </tr>\n",
       "    <tr>\n",
       "      <th>...</th>\n",
       "      <td>...</td>\n",
       "      <td>...</td>\n",
       "      <td>...</td>\n",
       "      <td>...</td>\n",
       "      <td>...</td>\n",
       "      <td>...</td>\n",
       "      <td>...</td>\n",
       "      <td>...</td>\n",
       "      <td>...</td>\n",
       "      <td>...</td>\n",
       "      <td>...</td>\n",
       "      <td>...</td>\n",
       "    </tr>\n",
       "    <tr>\n",
       "      <th>1485083</th>\n",
       "      <td>33</td>\n",
       "      <td>capital</td>\n",
       "      <td>1</td>\n",
       "      <td>243.434983</td>\n",
       "      <td>Feminino</td>\n",
       "      <td>14 anos</td>\n",
       "      <td>Branca</td>\n",
       "      <td>Nenhum</td>\n",
       "      <td>3 ou mais</td>\n",
       "      <td>Sim</td>\n",
       "      <td>Não</td>\n",
       "      <td>Nenhuma</td>\n",
       "    </tr>\n",
       "    <tr>\n",
       "      <th>1485084</th>\n",
       "      <td>33</td>\n",
       "      <td>capital</td>\n",
       "      <td>1</td>\n",
       "      <td>303.680541</td>\n",
       "      <td>Feminino</td>\n",
       "      <td>14 anos</td>\n",
       "      <td>Branca</td>\n",
       "      <td>2</td>\n",
       "      <td>3 ou mais</td>\n",
       "      <td>Sim</td>\n",
       "      <td>Não</td>\n",
       "      <td>Nenhuma</td>\n",
       "    </tr>\n",
       "    <tr>\n",
       "      <th>1485085</th>\n",
       "      <td>33</td>\n",
       "      <td>capital</td>\n",
       "      <td>1</td>\n",
       "      <td>244.658131</td>\n",
       "      <td>Feminino</td>\n",
       "      <td>14 anos</td>\n",
       "      <td>Parda</td>\n",
       "      <td>Nenhum</td>\n",
       "      <td>3 ou mais</td>\n",
       "      <td>Sim</td>\n",
       "      <td>Não</td>\n",
       "      <td>Nenhuma</td>\n",
       "    </tr>\n",
       "    <tr>\n",
       "      <th>1485086</th>\n",
       "      <td>33</td>\n",
       "      <td>capital</td>\n",
       "      <td>1</td>\n",
       "      <td>234.582421</td>\n",
       "      <td>Feminino</td>\n",
       "      <td>14 anos</td>\n",
       "      <td>Parda</td>\n",
       "      <td>Nenhum</td>\n",
       "      <td>3 ou mais</td>\n",
       "      <td>Sim</td>\n",
       "      <td>Não</td>\n",
       "      <td>Nenhuma</td>\n",
       "    </tr>\n",
       "    <tr>\n",
       "      <th>1485088</th>\n",
       "      <td>33</td>\n",
       "      <td>capital</td>\n",
       "      <td>1</td>\n",
       "      <td>306.960415</td>\n",
       "      <td>Feminino</td>\n",
       "      <td>15 anos</td>\n",
       "      <td>Branca</td>\n",
       "      <td>3 ou mais</td>\n",
       "      <td>3 ou mais</td>\n",
       "      <td>Sim</td>\n",
       "      <td>Não</td>\n",
       "      <td>Nenhuma</td>\n",
       "    </tr>\n",
       "  </tbody>\n",
       "</table>\n",
       "<p>34665 rows × 12 columns</p>\n",
       "</div>"
      ],
      "text/plain": [
       "         UF     Área  Pública ou privada?  Proficiência em matemática  \\\n",
       "1439451  33  capital                    1                  198.362460   \n",
       "1439452  33  capital                    1                  218.238442   \n",
       "1439454  33  capital                    1                  254.448678   \n",
       "1439455  33  capital                    1                  260.334085   \n",
       "1439456  33  capital                    1                  239.665940   \n",
       "...      ..      ...                  ...                         ...   \n",
       "1485083  33  capital                    1                  243.434983   \n",
       "1485084  33  capital                    1                  303.680541   \n",
       "1485085  33  capital                    1                  244.658131   \n",
       "1485086  33  capital                    1                  234.582421   \n",
       "1485088  33  capital                    1                  306.960415   \n",
       "\n",
       "           Gênero    Idade     Cor Quantos computadores têm na sua casa?  \\\n",
       "1439451  Feminino  17 anos   Parda                                     1   \n",
       "1439452  Feminino  16 anos   Preta                                     1   \n",
       "1439454  Feminino  15 anos  Branca                                Nenhum   \n",
       "1439455  Feminino  14 anos   Preta                                Nenhum   \n",
       "1439456  Feminino  14 anos  Branca                                     2   \n",
       "...           ...      ...     ...                                   ...   \n",
       "1485083  Feminino  14 anos  Branca                                Nenhum   \n",
       "1485084  Feminino  14 anos  Branca                                     2   \n",
       "1485085  Feminino  14 anos   Parda                                Nenhum   \n",
       "1485086  Feminino  14 anos   Parda                                Nenhum   \n",
       "1485088  Feminino  15 anos  Branca                             3 ou mais   \n",
       "\n",
       "        Quantos celulares com internet têm na sua casa?  \\\n",
       "1439451                                               2   \n",
       "1439452                                               2   \n",
       "1439454                                               1   \n",
       "1439455                                               2   \n",
       "1439456                                       3 ou mais   \n",
       "...                                                 ...   \n",
       "1485083                                       3 ou mais   \n",
       "1485084                                       3 ou mais   \n",
       "1485085                                       3 ou mais   \n",
       "1485086                                       3 ou mais   \n",
       "1485088                                       3 ou mais   \n",
       "\n",
       "        Na sua casa tem Wi-fi? Você já foi reprovado(a)?  \\\n",
       "1439451                    Sim                     1 vez   \n",
       "1439452                    Sim                     1 vez   \n",
       "1439454                    Sim                       Não   \n",
       "1439455                    Não                       Não   \n",
       "1439456                    Sim                       Não   \n",
       "...                        ...                       ...   \n",
       "1485083                    Sim                       Não   \n",
       "1485084                    Sim                       Não   \n",
       "1485085                    Sim                       Não   \n",
       "1485086                    Sim                       Não   \n",
       "1485088                    Sim                       Não   \n",
       "\n",
       "        Fora da escola em dias de aula, quanto tempo você usa para estudar?  \n",
       "1439451                                  Entre 1 e 2 horas                   \n",
       "1439452                                            Nenhuma                   \n",
       "1439454                                            Nenhuma                   \n",
       "1439455                                            Nenhuma                   \n",
       "1439456                                            Nenhuma                   \n",
       "...                                                    ...                   \n",
       "1485083                                            Nenhuma                   \n",
       "1485084                                            Nenhuma                   \n",
       "1485085                                            Nenhuma                   \n",
       "1485086                                            Nenhuma                   \n",
       "1485088                                            Nenhuma                   \n",
       "\n",
       "[34665 rows x 12 columns]"
      ]
     },
     "execution_count": 31,
     "metadata": {},
     "output_type": "execute_result"
    }
   ],
   "source": [
    "\n",
    "df_filtrado_capital = df_rj[df_rj['Área'].str.match('capital')]\n",
    "df_filtrado_capital"
   ]
  },
  {
   "cell_type": "code",
   "execution_count": 32,
   "metadata": {},
   "outputs": [
    {
     "data": {
      "text/plain": [
       "Text(0.5, 1.0, 'Proficiência dos alunos em matemática na capital do RJ')"
      ]
     },
     "execution_count": 32,
     "metadata": {},
     "output_type": "execute_result"
    },
    {
     "data": {
      "image/png": "[encoded data removed]",
      "text/plain": [
       "<Figure size 800x500 with 1 Axes>"
      ]
     },
     "metadata": {},
     "output_type": "display_data"
    }
   ],
   "source": [
    "plt.figure(figsize=(8, 5))\n",
    "sns.histplot(df_filtrado_capital['Proficiência em matemática'], kde = True, color = 'green',  bins=50)\n",
    "plt.xlabel('Valor da proficiência do aluno')\n",
    "plt.ylabel('')\n",
    "plt.title('Proficiência dos alunos em matemática na capital do RJ', fontsize = 14)"
   ]
  },
  {
   "cell_type": "markdown",
   "metadata": {},
   "source": [
    "Observamos pelo gráfico acima que os alunos do 9º ano das escolas públicas da capital do estado RJ obtiveram melhor proficência em matemática, em comparação com os alunos do interior do estado."
   ]
  },
  {
   "cell_type": "markdown",
   "metadata": {},
   "source": [
    "#### A partir deste ponto, vamos analisar mais de perto a população dos alunos do 9º ano da rede pública do RJ, descobrindo através das visualizações a proporção de alunos e alunas por gênero e cor na capital e no interior do estado, quantos possuem acesso à internet em casa, quanto tempo dedicam ao estudo quando não estão na escola etc."
   ]
  },
  {
   "cell_type": "code",
   "execution_count": 33,
   "metadata": {},
   "outputs": [
    {
     "data": {
      "text/plain": [
       "Text(0, 0.5, '')"
      ]
     },
     "execution_count": 33,
     "metadata": {},
     "output_type": "execute_result"
    },
    {
     "data": {
      "image/png": "[encoded data removed]",
      "text/plain": [
       "<Figure size 640x480 with 1 Axes>"
      ]
     },
     "metadata": {},
     "output_type": "display_data"
    }
   ],
   "source": [
    "sns.countplot(data = df_rj, x = 'Área', hue = 'Gênero', palette = 'viridis')\n",
    "plt.xlabel('')\n",
    "plt.ylabel('')"
   ]
  },
  {
   "cell_type": "markdown",
   "metadata": {},
   "source": [
    "Tanto no interior quanto na capital do RJ temos mais alunas que alunos matriculados na rede pública de ensino no 9º ano, sendo que no interior a diferença entre o número de alunos e alunas é mais evidente."
   ]
  },
  {
   "cell_type": "code",
   "execution_count": 34,
   "metadata": {},
   "outputs": [
    {
     "data": {
      "text/plain": [
       "Text(0, 0.5, '')"
      ]
     },
     "execution_count": 34,
     "metadata": {},
     "output_type": "execute_result"
    },
    {
     "data": {
      "image/png": "[encoded data removed]",
      "text/plain": [
       "<Figure size 700x500 with 1 Axes>"
      ]
     },
     "metadata": {},
     "output_type": "display_data"
    }
   ],
   "source": [
    "plt.figure(figsize=(7, 5))\n",
    "sns.countplot(data = df_rj, x = 'Área', hue = 'Cor', palette = 'magma')\n",
    "plt.xlabel('')\n",
    "plt.ylabel('')\n"
   ]
  },
  {
   "cell_type": "markdown",
   "metadata": {},
   "source": [
    "Tanto no interior quanto na capital, a quantidade de alunos da rede pública que se declaram pardos é predominante. Em segundo lugar, alunos que se declaram brancos, e em terceiro, os que se declaram pretos."
   ]
  },
  {
   "cell_type": "code",
   "execution_count": 35,
   "metadata": {},
   "outputs": [
    {
     "data": {
      "text/plain": [
       "Text(0, 0.5, '')"
      ]
     },
     "execution_count": 35,
     "metadata": {},
     "output_type": "execute_result"
    },
    {
     "data": {
      "image/png": "[encoded data removed]",
      "text/plain": [
       "<Figure size 700x500 with 1 Axes>"
      ]
     },
     "metadata": {},
     "output_type": "display_data"
    }
   ],
   "source": [
    "plt.figure(figsize=(7, 5))\n",
    "sns.countplot(data = df_rj, x = 'Área', hue = 'Idade', palette = 'magma')\n",
    "plt.xlabel('')\n",
    "plt.ylabel('')\n"
   ]
  },
  {
   "cell_type": "code",
   "execution_count": 36,
   "metadata": {},
   "outputs": [
    {
     "data": {
      "text/plain": [
       "Idade\n",
       "15 anos             0.447339\n",
       "14 anos             0.402856\n",
       "16 anos             0.086802\n",
       "Branco              0.039781\n",
       "17 anos             0.017107\n",
       "18 anos ou mais     0.003173\n",
       "13 anos ou menos    0.002481\n",
       "Nulo                0.000462\n",
       "Name: proportion, dtype: float64"
      ]
     },
     "execution_count": 36,
     "metadata": {},
     "output_type": "execute_result"
    }
   ],
   "source": [
    "df_filtrado_capital['Idade'].value_counts(normalize=True)"
   ]
  },
  {
   "cell_type": "markdown",
   "metadata": {},
   "source": [
    "Tanto no interior quanto na capital a maior parte dos alunos tem 14 e 15 anos, a idade correspondente ao 9ª ano. Mas no interior cerca de 17% dos alunos do 9º ano da rede têm 16 anos (contra cerca de 9% na capital), o que pode indicar um número de repetentes que não deve ser ignorado."
   ]
  },
  {
   "cell_type": "code",
   "execution_count": 37,
   "metadata": {},
   "outputs": [
    {
     "data": {
      "text/plain": [
       "Na sua casa tem Wi-fi?\n",
       "Sim       0.848572\n",
       "Não       0.093906\n",
       "Branco    0.052322\n",
       "Nulo      0.005200\n",
       "Name: proportion, dtype: float64"
      ]
     },
     "execution_count": 37,
     "metadata": {},
     "output_type": "execute_result"
    }
   ],
   "source": [
    "df_rj['Na sua casa tem Wi-fi?'].value_counts(normalize=True)"
   ]
  },
  {
   "cell_type": "markdown",
   "metadata": {},
   "source": [
    "#### Resposta dos alunos da rede pública do estado do RJ à pergunta 'Na sua casa tem Wi-Fi?'"
   ]
  },
  {
   "cell_type": "code",
   "execution_count": 38,
   "metadata": {},
   "outputs": [
    {
     "data": {
      "image/png": "[encoded data removed]",
      "text/plain": [
       "<Figure size 640x480 with 1 Axes>"
      ]
     },
     "metadata": {},
     "output_type": "display_data"
    }
   ],
   "source": [
    "plt.style.use('ggplot')\n",
    "labels = ['Sim', 'Não', 'Branco', 'Nulo']\n",
    "valores = [84.9, 9.4, 5.2, 0.5]\n",
    "\n",
    "colors = ['#424ad1', '#6a8ee8', '#66bbe2', \n",
    "          '#ADFF2F', '#FFA500']\n",
    "explode = (0.05, 0.05, 0.05, 0.05)\n",
    "plt.pie(valores, colors=colors, labels=labels,\n",
    "        autopct='%1.1f%%', pctdistance=0.85,\n",
    "        explode=explode)\n",
    "\n",
    "centre_circle = plt.Circle((0, 0), 0.70, fc='white')\n",
    "fig = plt.gcf()\n",
    "\n",
    "fig.gca().add_artist(centre_circle)\n",
    "\n",
    "plt.title('Na sua casa tem Wi-Fi?')\n",
    "\n",
    "plt.show()"
   ]
  },
  {
   "cell_type": "code",
   "execution_count": 39,
   "metadata": {},
   "outputs": [
    {
     "data": {
      "text/plain": [
       "Na sua casa tem Wi-fi?\n",
       "Sim       0.829078\n",
       "Não       0.113169\n",
       "Branco    0.053224\n",
       "Nulo      0.004529\n",
       "Name: proportion, dtype: float64"
      ]
     },
     "execution_count": 39,
     "metadata": {},
     "output_type": "execute_result"
    }
   ],
   "source": [
    "df_filtrado_capital['Na sua casa tem Wi-fi?'].value_counts(normalize=True)"
   ]
  },
  {
   "cell_type": "code",
   "execution_count": 40,
   "metadata": {},
   "outputs": [
    {
     "data": {
      "text/plain": [
       "Na sua casa tem Wi-fi?\n",
       "Sim       0.858287\n",
       "Não       0.084306\n",
       "Branco    0.051872\n",
       "Nulo      0.005535\n",
       "Name: proportion, dtype: float64"
      ]
     },
     "execution_count": 40,
     "metadata": {},
     "output_type": "execute_result"
    }
   ],
   "source": [
    "df_filtrado_interior['Na sua casa tem Wi-fi?'].value_counts(normalize=True)"
   ]
  },
  {
   "cell_type": "code",
   "execution_count": 41,
   "metadata": {},
   "outputs": [
    {
     "data": {
      "image/png": "[encoded data removed]",
      "text/plain": [
       "<Figure size 800x600 with 2 Axes>"
      ]
     },
     "metadata": {},
     "output_type": "display_data"
    }
   ],
   "source": [
    "fig = plt.figure(figsize=(8,6))\n",
    "\n",
    "ax1 = fig.add_subplot(1,2,1)\n",
    "ax2 = fig.add_subplot(1,2,2)\n",
    " \n",
    "sizes = [82.9, 11.3, 5.3, 0.5]\n",
    "labels = ['Sim', 'Não', 'Brancos', 'Nulos']\n",
    "\n",
    "\n",
    "sizes2 = [85.8, 8.4, 5.2, 0.6] \n",
    "labels2 = ['Sim', 'Não', 'Brancos', 'Nulos']\n",
    "\n",
    "\n",
    "plt.suptitle('Na sua casa tem Wi-Fi? (Capital e Interior)')\n",
    "ax1.pie(sizes, labels=labels, autopct = '%1.1f%%')\n",
    "\n",
    "ax2.pie(sizes2, labels=labels2, autopct = '%1.1f%%') \n",
    "\n",
    "plt.show()"
   ]
  },
  {
   "cell_type": "markdown",
   "metadata": {},
   "source": [
    "Os três gráficos acima mostram que a grande maioria dos alunos têm Wi-Fi em casa tanto na capital quanto no interior do RJ."
   ]
  },
  {
   "cell_type": "markdown",
   "metadata": {},
   "source": [
    "#### Resposta dos alunos da rede pública do estado do RJ à pergunta 'Quantos computadores têm na sua casa?'"
   ]
  },
  {
   "cell_type": "code",
   "execution_count": 70,
   "metadata": {},
   "outputs": [
    {
     "data": {
      "text/plain": [
       "Text(0, 0.5, '')"
      ]
     },
     "execution_count": 70,
     "metadata": {},
     "output_type": "execute_result"
    },
    {
     "data": {
      "image/png": "[encoded data removed]",
      "text/plain": [
       "<Figure size 800x600 with 1 Axes>"
      ]
     },
     "metadata": {},
     "output_type": "display_data"
    }
   ],
   "source": [
    "plt.figure(figsize=(8, 6))\n",
    "sns.countplot(data = df_rj, x = 'Quantos computadores têm na sua casa?', hue = 'Área', palette = 'ocean')\n",
    "plt.xlabel('')\n",
    "plt.ylabel('')"
   ]
  },
  {
   "cell_type": "markdown",
   "metadata": {},
   "source": [
    "#### Resposta dos alunos da rede pública do estado do RJ à pergunta 'Quantos celulares com internet têm na sua casa?'"
   ]
  },
  {
   "cell_type": "code",
   "execution_count": 73,
   "metadata": {},
   "outputs": [
    {
     "data": {
      "text/plain": [
       "Text(0, 0.5, '')"
      ]
     },
     "execution_count": 73,
     "metadata": {},
     "output_type": "execute_result"
    },
    {
     "data": {
      "image/png": "[encoded data removed]",
      "text/plain": [
       "<Figure size 800x600 with 1 Axes>"
      ]
     },
     "metadata": {},
     "output_type": "display_data"
    }
   ],
   "source": [
    "#Quantos celulares com internet têm na sua casa?\n",
    "plt.figure(figsize=(8, 6))\n",
    "sns.countplot(data = df_rj, x = 'Quantos celulares com internet têm na sua casa?', hue = 'Área', palette = 'winter')\n",
    "plt.xlabel('')\n",
    "plt.ylabel('')"
   ]
  },
  {
   "cell_type": "markdown",
   "metadata": {},
   "source": []
  },
  {
   "cell_type": "markdown",
   "metadata": {},
   "source": [
    "#### Resposta dos alunos da rede pública do estado do RJ à pergunta 'Você já foi reprovado(a)?'"
   ]
  },
  {
   "cell_type": "code",
   "execution_count": 74,
   "metadata": {},
   "outputs": [
    {
     "data": {
      "text/plain": [
       "Text(0, 0.5, '')"
      ]
     },
     "execution_count": 74,
     "metadata": {},
     "output_type": "execute_result"
    },
    {
     "data": {
      "image/png": "[encoded data removed]",
      "text/plain": [
       "<Figure size 800x600 with 1 Axes>"
      ]
     },
     "metadata": {},
     "output_type": "display_data"
    }
   ],
   "source": [
    "plt.figure(figsize=(8, 6))\n",
    "sns.countplot(data = df_rj, x = 'Você já foi reprovado(a)?', hue = 'Área', palette = 'ocean')\n",
    "plt.xlabel('')\n",
    "plt.ylabel('')"
   ]
  },
  {
   "cell_type": "markdown",
   "metadata": {},
   "source": [
    "#### Nesta seção vamos analisar o desempenho em matemática dos alunos do 9º ano da rede pública do RJ de acordo com a cor e o gênero."
   ]
  },
  {
   "cell_type": "code",
   "execution_count": 44,
   "metadata": {},
   "outputs": [
    {
     "data": {
      "text/html": [
       "<div>\n",
       "<style scoped>\n",
       "    .dataframe tbody tr th:only-of-type {\n",
       "        vertical-align: middle;\n",
       "    }\n",
       "\n",
       "    .dataframe tbody tr th {\n",
       "        vertical-align: top;\n",
       "    }\n",
       "\n",
       "    .dataframe thead th {\n",
       "        text-align: right;\n",
       "    }\n",
       "</style>\n",
       "<table border=\"1\" class=\"dataframe\">\n",
       "  <thead>\n",
       "    <tr style=\"text-align: right;\">\n",
       "      <th></th>\n",
       "      <th>Cor</th>\n",
       "      <th>Proficiência em matemática</th>\n",
       "    </tr>\n",
       "  </thead>\n",
       "  <tbody>\n",
       "    <tr>\n",
       "      <th>1361117</th>\n",
       "      <td>Parda</td>\n",
       "      <td>171.789179</td>\n",
       "    </tr>\n",
       "    <tr>\n",
       "      <th>1361118</th>\n",
       "      <td>Parda</td>\n",
       "      <td>322.009368</td>\n",
       "    </tr>\n",
       "    <tr>\n",
       "      <th>1361119</th>\n",
       "      <td>Preta</td>\n",
       "      <td>292.794337</td>\n",
       "    </tr>\n",
       "    <tr>\n",
       "      <th>1361120</th>\n",
       "      <td>Branca</td>\n",
       "      <td>298.394524</td>\n",
       "    </tr>\n",
       "    <tr>\n",
       "      <th>1361121</th>\n",
       "      <td>Preta</td>\n",
       "      <td>234.420557</td>\n",
       "    </tr>\n",
       "    <tr>\n",
       "      <th>...</th>\n",
       "      <td>...</td>\n",
       "      <td>...</td>\n",
       "    </tr>\n",
       "    <tr>\n",
       "      <th>1509352</th>\n",
       "      <td>Parda</td>\n",
       "      <td>167.897676</td>\n",
       "    </tr>\n",
       "    <tr>\n",
       "      <th>1509353</th>\n",
       "      <td>Não declarado</td>\n",
       "      <td>255.231227</td>\n",
       "    </tr>\n",
       "    <tr>\n",
       "      <th>1509354</th>\n",
       "      <td>Parda</td>\n",
       "      <td>334.738566</td>\n",
       "    </tr>\n",
       "    <tr>\n",
       "      <th>1509356</th>\n",
       "      <td>Parda</td>\n",
       "      <td>291.197269</td>\n",
       "    </tr>\n",
       "    <tr>\n",
       "      <th>1509358</th>\n",
       "      <td>Branca</td>\n",
       "      <td>270.210091</td>\n",
       "    </tr>\n",
       "  </tbody>\n",
       "</table>\n",
       "<p>104221 rows × 2 columns</p>\n",
       "</div>"
      ],
      "text/plain": [
       "                   Cor  Proficiência em matemática\n",
       "1361117          Parda                  171.789179\n",
       "1361118          Parda                  322.009368\n",
       "1361119          Preta                  292.794337\n",
       "1361120         Branca                  298.394524\n",
       "1361121          Preta                  234.420557\n",
       "...                ...                         ...\n",
       "1509352          Parda                  167.897676\n",
       "1509353  Não declarado                  255.231227\n",
       "1509354          Parda                  334.738566\n",
       "1509356          Parda                  291.197269\n",
       "1509358         Branca                  270.210091\n",
       "\n",
       "[104221 rows x 2 columns]"
      ]
     },
     "execution_count": 44,
     "metadata": {},
     "output_type": "execute_result"
    }
   ],
   "source": [
    "df_desempenho_cor = df_rj.loc[:, [\"Cor\", \"Proficiência em matemática\"]]\n",
    "df_desempenho_cor"
   ]
  },
  {
   "cell_type": "code",
   "execution_count": 45,
   "metadata": {},
   "outputs": [
    {
     "data": {
      "text/html": [
       "<div>\n",
       "<style scoped>\n",
       "    .dataframe tbody tr th:only-of-type {\n",
       "        vertical-align: middle;\n",
       "    }\n",
       "\n",
       "    .dataframe tbody tr th {\n",
       "        vertical-align: top;\n",
       "    }\n",
       "\n",
       "    .dataframe thead th {\n",
       "        text-align: right;\n",
       "    }\n",
       "</style>\n",
       "<table border=\"1\" class=\"dataframe\">\n",
       "  <thead>\n",
       "    <tr style=\"text-align: right;\">\n",
       "      <th></th>\n",
       "      <th>Cor</th>\n",
       "      <th>Proficiência em matemática</th>\n",
       "    </tr>\n",
       "  </thead>\n",
       "  <tbody>\n",
       "    <tr>\n",
       "      <th>1361117</th>\n",
       "      <td>Parda</td>\n",
       "      <td>171.789179</td>\n",
       "    </tr>\n",
       "    <tr>\n",
       "      <th>1361118</th>\n",
       "      <td>Parda</td>\n",
       "      <td>322.009368</td>\n",
       "    </tr>\n",
       "    <tr>\n",
       "      <th>1361119</th>\n",
       "      <td>Preta</td>\n",
       "      <td>292.794337</td>\n",
       "    </tr>\n",
       "    <tr>\n",
       "      <th>1361121</th>\n",
       "      <td>Preta</td>\n",
       "      <td>234.420557</td>\n",
       "    </tr>\n",
       "    <tr>\n",
       "      <th>1361123</th>\n",
       "      <td>Parda</td>\n",
       "      <td>219.420621</td>\n",
       "    </tr>\n",
       "    <tr>\n",
       "      <th>...</th>\n",
       "      <td>...</td>\n",
       "      <td>...</td>\n",
       "    </tr>\n",
       "    <tr>\n",
       "      <th>1509346</th>\n",
       "      <td>Parda</td>\n",
       "      <td>303.840337</td>\n",
       "    </tr>\n",
       "    <tr>\n",
       "      <th>1509350</th>\n",
       "      <td>Parda</td>\n",
       "      <td>323.861472</td>\n",
       "    </tr>\n",
       "    <tr>\n",
       "      <th>1509352</th>\n",
       "      <td>Parda</td>\n",
       "      <td>167.897676</td>\n",
       "    </tr>\n",
       "    <tr>\n",
       "      <th>1509354</th>\n",
       "      <td>Parda</td>\n",
       "      <td>334.738566</td>\n",
       "    </tr>\n",
       "    <tr>\n",
       "      <th>1509356</th>\n",
       "      <td>Parda</td>\n",
       "      <td>291.197269</td>\n",
       "    </tr>\n",
       "  </tbody>\n",
       "</table>\n",
       "<p>60565 rows × 2 columns</p>\n",
       "</div>"
      ],
      "text/plain": [
       "           Cor  Proficiência em matemática\n",
       "1361117  Parda                  171.789179\n",
       "1361118  Parda                  322.009368\n",
       "1361119  Preta                  292.794337\n",
       "1361121  Preta                  234.420557\n",
       "1361123  Parda                  219.420621\n",
       "...        ...                         ...\n",
       "1509346  Parda                  303.840337\n",
       "1509350  Parda                  323.861472\n",
       "1509352  Parda                  167.897676\n",
       "1509354  Parda                  334.738566\n",
       "1509356  Parda                  291.197269\n",
       "\n",
       "[60565 rows x 2 columns]"
      ]
     },
     "execution_count": 45,
     "metadata": {},
     "output_type": "execute_result"
    }
   ],
   "source": [
    "#Criando um df filtrado somente com alunos que se declararam pretos ou pardos\n",
    "filtro = df_desempenho_cor[\"Cor\"].str.match('Parda') | df_desempenho_cor[\"Cor\"].str.match('Preta') \n",
    "df_negros = df_desempenho_cor[filtro]\n",
    "df_negros"
   ]
  },
  {
   "cell_type": "code",
   "execution_count": 46,
   "metadata": {},
   "outputs": [
    {
     "data": {
      "text/plain": [
       "243.81554093600263"
      ]
     },
     "execution_count": 46,
     "metadata": {},
     "output_type": "execute_result"
    }
   ],
   "source": [
    "desempenho_medio_negros = df_negros[\"Proficiência em matemática\"].mean()\n",
    "desempenho_medio_negros"
   ]
  },
  {
   "cell_type": "code",
   "execution_count": 47,
   "metadata": {},
   "outputs": [
    {
     "data": {
      "text/plain": [
       "Text(0.5, 1.0, 'Proficiência em matemática dos alunos negros do 9º ano da rede pública do RJ')"
      ]
     },
     "execution_count": 47,
     "metadata": {},
     "output_type": "execute_result"
    },
    {
     "data": {
      "image/png": "[encoded data removed]",
      "text/plain": [
       "<Figure size 800x800 with 1 Axes>"
      ]
     },
     "metadata": {},
     "output_type": "display_data"
    }
   ],
   "source": [
    "plt.figure(figsize=(8, 8))\n",
    "sns.violinplot(data = df_negros, y = 'Proficiência em matemática', hue = 'Cor', palette = 'autumn_r')\n",
    "plt.xlabel('')\n",
    "plt.ylabel('proficiência em matemática')\n",
    "plt.title('Proficiência em matemática dos alunos negros do 9º ano da rede pública do RJ')"
   ]
  },
  {
   "cell_type": "markdown",
   "metadata": {},
   "source": [
    "O gráfico acima mostra como há um maior número de alunos pardos com um desempenho em matemática entre 300 e 400 (acima da média do estado), em comparação com os pretos. A maior parte dos alunos pretos apresenta uma proficiência em matemática abaixo de 250, enquanto entre os alunos pardos a maior parte apresenta um desempenho nesta disciplina entre 250 e 300."
   ]
  },
  {
   "cell_type": "code",
   "execution_count": 48,
   "metadata": {},
   "outputs": [
    {
     "data": {
      "text/plain": [
       "Text(0, 0.5, 'Contagem de alunos')"
      ]
     },
     "execution_count": 48,
     "metadata": {},
     "output_type": "execute_result"
    },
    {
     "data": {
      "image/png": "[encoded data removed]",
      "text/plain": [
       "<Figure size 800x600 with 1 Axes>"
      ]
     },
     "metadata": {},
     "output_type": "display_data"
    }
   ],
   "source": [
    "plt.figure(figsize=(8, 6))\n",
    "df_negros[df_negros[\"Proficiência em matemática\"] < 246.7][\"Proficiência em matemática\"].hist(bins = 50, ec = \"k\", alpha = 0.5, color = \"orange\")\n",
    "plt.title(\"Ditribuição de alunos negros com proficiência em MT abaixo da média da rede pública do estado do RJ\")\n",
    "plt.xlabel(\"Proficiência em matemática\")\n",
    "plt.ylabel(\"Contagem de alunos\")"
   ]
  },
  {
   "cell_type": "code",
   "execution_count": 49,
   "metadata": {},
   "outputs": [
    {
     "data": {
      "text/html": [
       "<div>\n",
       "<style scoped>\n",
       "    .dataframe tbody tr th:only-of-type {\n",
       "        vertical-align: middle;\n",
       "    }\n",
       "\n",
       "    .dataframe tbody tr th {\n",
       "        vertical-align: top;\n",
       "    }\n",
       "\n",
       "    .dataframe thead th {\n",
       "        text-align: right;\n",
       "    }\n",
       "</style>\n",
       "<table border=\"1\" class=\"dataframe\">\n",
       "  <thead>\n",
       "    <tr style=\"text-align: right;\">\n",
       "      <th></th>\n",
       "      <th>Cor</th>\n",
       "      <th>Proficiência em matemática</th>\n",
       "    </tr>\n",
       "  </thead>\n",
       "  <tbody>\n",
       "    <tr>\n",
       "      <th>1361120</th>\n",
       "      <td>Branca</td>\n",
       "      <td>298.394524</td>\n",
       "    </tr>\n",
       "    <tr>\n",
       "      <th>1361122</th>\n",
       "      <td>Branca</td>\n",
       "      <td>283.794442</td>\n",
       "    </tr>\n",
       "    <tr>\n",
       "      <th>1361125</th>\n",
       "      <td>Branca</td>\n",
       "      <td>330.867967</td>\n",
       "    </tr>\n",
       "    <tr>\n",
       "      <th>1361126</th>\n",
       "      <td>Branca</td>\n",
       "      <td>223.335208</td>\n",
       "    </tr>\n",
       "    <tr>\n",
       "      <th>1361128</th>\n",
       "      <td>Branca</td>\n",
       "      <td>293.217106</td>\n",
       "    </tr>\n",
       "    <tr>\n",
       "      <th>...</th>\n",
       "      <td>...</td>\n",
       "      <td>...</td>\n",
       "    </tr>\n",
       "    <tr>\n",
       "      <th>1509337</th>\n",
       "      <td>Branca</td>\n",
       "      <td>247.978024</td>\n",
       "    </tr>\n",
       "    <tr>\n",
       "      <th>1509348</th>\n",
       "      <td>Branca</td>\n",
       "      <td>334.344358</td>\n",
       "    </tr>\n",
       "    <tr>\n",
       "      <th>1509349</th>\n",
       "      <td>Branca</td>\n",
       "      <td>236.666925</td>\n",
       "    </tr>\n",
       "    <tr>\n",
       "      <th>1509351</th>\n",
       "      <td>Branca</td>\n",
       "      <td>345.911107</td>\n",
       "    </tr>\n",
       "    <tr>\n",
       "      <th>1509358</th>\n",
       "      <td>Branca</td>\n",
       "      <td>270.210091</td>\n",
       "    </tr>\n",
       "  </tbody>\n",
       "</table>\n",
       "<p>29551 rows × 2 columns</p>\n",
       "</div>"
      ],
      "text/plain": [
       "            Cor  Proficiência em matemática\n",
       "1361120  Branca                  298.394524\n",
       "1361122  Branca                  283.794442\n",
       "1361125  Branca                  330.867967\n",
       "1361126  Branca                  223.335208\n",
       "1361128  Branca                  293.217106\n",
       "...         ...                         ...\n",
       "1509337  Branca                  247.978024\n",
       "1509348  Branca                  334.344358\n",
       "1509349  Branca                  236.666925\n",
       "1509351  Branca                  345.911107\n",
       "1509358  Branca                  270.210091\n",
       "\n",
       "[29551 rows x 2 columns]"
      ]
     },
     "execution_count": 49,
     "metadata": {},
     "output_type": "execute_result"
    }
   ],
   "source": [
    "filtro = df_desempenho_cor[\"Cor\"].str.match('Branca')  \n",
    "df_brancos = df_desempenho_cor[filtro]\n",
    "df_brancos"
   ]
  },
  {
   "cell_type": "code",
   "execution_count": 50,
   "metadata": {},
   "outputs": [
    {
     "data": {
      "text/plain": [
       "Text(0, 0.5, 'Contagem de alunos')"
      ]
     },
     "execution_count": 50,
     "metadata": {},
     "output_type": "execute_result"
    },
    {
     "data": {
      "image/png": "[encoded data removed]",
      "text/plain": [
       "<Figure size 800x600 with 1 Axes>"
      ]
     },
     "metadata": {},
     "output_type": "display_data"
    }
   ],
   "source": [
    "plt.figure(figsize=(8, 6))\n",
    "df_brancos[df_brancos[\"Proficiência em matemática\"] < 246.7][\"Proficiência em matemática\"].hist(bins = 50, alpha = 0.5, color = \"red\")\n",
    "plt.title(\"Ditribuição de alunos brancos com proficiência em MT abaixo da média da rede pública do estado do RJ\")\n",
    "plt.xlabel(\"Proficiência em matemática\")\n",
    "plt.ylabel(\"Contagem de alunos\")"
   ]
  },
  {
   "cell_type": "markdown",
   "metadata": {},
   "source": [
    "Os dois últimos histogramas mostram que há uma quatidade maior de alunos negros com um índice mais baixo de proficiência (menor que 200) em comparação com os brancos. A descida mais íngreme do gráfido referente aos alunos brancos mostra que há uma menor proporção de alunos com desempenho baixo, em comparação com os alunos negros."
   ]
  },
  {
   "cell_type": "code",
   "execution_count": 51,
   "metadata": {},
   "outputs": [
    {
     "data": {
      "text/plain": [
       "Index(['UF', 'Área', 'Pública ou privada?', 'Proficiência em matemática',\n",
       "       'Gênero', 'Idade', 'Cor', 'Quantos computadores têm na sua casa?',\n",
       "       'Quantos celulares com internet têm na sua casa?',\n",
       "       'Na sua casa tem Wi-fi?', 'Você já foi reprovado(a)?',\n",
       "       'Fora da escola em dias de aula, quanto tempo você usa para estudar?'],\n",
       "      dtype='object')"
      ]
     },
     "execution_count": 51,
     "metadata": {},
     "output_type": "execute_result"
    }
   ],
   "source": [
    "df_rj.columns"
   ]
  },
  {
   "cell_type": "code",
   "execution_count": 52,
   "metadata": {},
   "outputs": [
    {
     "data": {
      "text/html": [
       "<div>\n",
       "<style scoped>\n",
       "    .dataframe tbody tr th:only-of-type {\n",
       "        vertical-align: middle;\n",
       "    }\n",
       "\n",
       "    .dataframe tbody tr th {\n",
       "        vertical-align: top;\n",
       "    }\n",
       "\n",
       "    .dataframe thead th {\n",
       "        text-align: right;\n",
       "    }\n",
       "</style>\n",
       "<table border=\"1\" class=\"dataframe\">\n",
       "  <thead>\n",
       "    <tr style=\"text-align: right;\">\n",
       "      <th></th>\n",
       "      <th>Proficiência em matemática</th>\n",
       "      <th>Gênero</th>\n",
       "    </tr>\n",
       "  </thead>\n",
       "  <tbody>\n",
       "    <tr>\n",
       "      <th>1361117</th>\n",
       "      <td>171.789179</td>\n",
       "      <td>Masculino</td>\n",
       "    </tr>\n",
       "    <tr>\n",
       "      <th>1361118</th>\n",
       "      <td>322.009368</td>\n",
       "      <td>Masculino</td>\n",
       "    </tr>\n",
       "    <tr>\n",
       "      <th>1361119</th>\n",
       "      <td>292.794337</td>\n",
       "      <td>Feminino</td>\n",
       "    </tr>\n",
       "    <tr>\n",
       "      <th>1361120</th>\n",
       "      <td>298.394524</td>\n",
       "      <td>Masculino</td>\n",
       "    </tr>\n",
       "    <tr>\n",
       "      <th>1361121</th>\n",
       "      <td>234.420557</td>\n",
       "      <td>Feminino</td>\n",
       "    </tr>\n",
       "    <tr>\n",
       "      <th>...</th>\n",
       "      <td>...</td>\n",
       "      <td>...</td>\n",
       "    </tr>\n",
       "    <tr>\n",
       "      <th>1509352</th>\n",
       "      <td>167.897676</td>\n",
       "      <td>Masculino</td>\n",
       "    </tr>\n",
       "    <tr>\n",
       "      <th>1509353</th>\n",
       "      <td>255.231227</td>\n",
       "      <td>Masculino</td>\n",
       "    </tr>\n",
       "    <tr>\n",
       "      <th>1509354</th>\n",
       "      <td>334.738566</td>\n",
       "      <td>Masculino</td>\n",
       "    </tr>\n",
       "    <tr>\n",
       "      <th>1509356</th>\n",
       "      <td>291.197269</td>\n",
       "      <td>Masculino</td>\n",
       "    </tr>\n",
       "    <tr>\n",
       "      <th>1509358</th>\n",
       "      <td>270.210091</td>\n",
       "      <td>Masculino</td>\n",
       "    </tr>\n",
       "  </tbody>\n",
       "</table>\n",
       "<p>104221 rows × 2 columns</p>\n",
       "</div>"
      ],
      "text/plain": [
       "         Proficiência em matemática     Gênero\n",
       "1361117                  171.789179  Masculino\n",
       "1361118                  322.009368  Masculino\n",
       "1361119                  292.794337   Feminino\n",
       "1361120                  298.394524  Masculino\n",
       "1361121                  234.420557   Feminino\n",
       "...                             ...        ...\n",
       "1509352                  167.897676  Masculino\n",
       "1509353                  255.231227  Masculino\n",
       "1509354                  334.738566  Masculino\n",
       "1509356                  291.197269  Masculino\n",
       "1509358                  270.210091  Masculino\n",
       "\n",
       "[104221 rows x 2 columns]"
      ]
     },
     "execution_count": 52,
     "metadata": {},
     "output_type": "execute_result"
    }
   ],
   "source": [
    "df_desempenho_genero = df_rj.loc[:, [\"Proficiência em matemática\", \"Gênero\"]]\n",
    "df_desempenho_genero"
   ]
  },
  {
   "cell_type": "code",
   "execution_count": 53,
   "metadata": {},
   "outputs": [
    {
     "data": {
      "text/html": [
       "<div>\n",
       "<style scoped>\n",
       "    .dataframe tbody tr th:only-of-type {\n",
       "        vertical-align: middle;\n",
       "    }\n",
       "\n",
       "    .dataframe tbody tr th {\n",
       "        vertical-align: top;\n",
       "    }\n",
       "\n",
       "    .dataframe thead th {\n",
       "        text-align: right;\n",
       "    }\n",
       "</style>\n",
       "<table border=\"1\" class=\"dataframe\">\n",
       "  <thead>\n",
       "    <tr style=\"text-align: right;\">\n",
       "      <th></th>\n",
       "      <th>Proficiência em matemática</th>\n",
       "      <th>Gênero</th>\n",
       "    </tr>\n",
       "  </thead>\n",
       "  <tbody>\n",
       "    <tr>\n",
       "      <th>1361117</th>\n",
       "      <td>171.789179</td>\n",
       "      <td>Masculino</td>\n",
       "    </tr>\n",
       "    <tr>\n",
       "      <th>1361118</th>\n",
       "      <td>322.009368</td>\n",
       "      <td>Masculino</td>\n",
       "    </tr>\n",
       "    <tr>\n",
       "      <th>1361119</th>\n",
       "      <td>292.794337</td>\n",
       "      <td>Feminino</td>\n",
       "    </tr>\n",
       "    <tr>\n",
       "      <th>1361120</th>\n",
       "      <td>298.394524</td>\n",
       "      <td>Masculino</td>\n",
       "    </tr>\n",
       "    <tr>\n",
       "      <th>1361121</th>\n",
       "      <td>234.420557</td>\n",
       "      <td>Feminino</td>\n",
       "    </tr>\n",
       "    <tr>\n",
       "      <th>...</th>\n",
       "      <td>...</td>\n",
       "      <td>...</td>\n",
       "    </tr>\n",
       "    <tr>\n",
       "      <th>1509352</th>\n",
       "      <td>167.897676</td>\n",
       "      <td>Masculino</td>\n",
       "    </tr>\n",
       "    <tr>\n",
       "      <th>1509353</th>\n",
       "      <td>255.231227</td>\n",
       "      <td>Masculino</td>\n",
       "    </tr>\n",
       "    <tr>\n",
       "      <th>1509354</th>\n",
       "      <td>334.738566</td>\n",
       "      <td>Masculino</td>\n",
       "    </tr>\n",
       "    <tr>\n",
       "      <th>1509356</th>\n",
       "      <td>291.197269</td>\n",
       "      <td>Masculino</td>\n",
       "    </tr>\n",
       "    <tr>\n",
       "      <th>1509358</th>\n",
       "      <td>270.210091</td>\n",
       "      <td>Masculino</td>\n",
       "    </tr>\n",
       "  </tbody>\n",
       "</table>\n",
       "<p>100278 rows × 2 columns</p>\n",
       "</div>"
      ],
      "text/plain": [
       "         Proficiência em matemática     Gênero\n",
       "1361117                  171.789179  Masculino\n",
       "1361118                  322.009368  Masculino\n",
       "1361119                  292.794337   Feminino\n",
       "1361120                  298.394524  Masculino\n",
       "1361121                  234.420557   Feminino\n",
       "...                             ...        ...\n",
       "1509352                  167.897676  Masculino\n",
       "1509353                  255.231227  Masculino\n",
       "1509354                  334.738566  Masculino\n",
       "1509356                  291.197269  Masculino\n",
       "1509358                  270.210091  Masculino\n",
       "\n",
       "[100278 rows x 2 columns]"
      ]
     },
     "execution_count": 53,
     "metadata": {},
     "output_type": "execute_result"
    }
   ],
   "source": [
    "# Excluindo os brancos e nulos\n",
    "filtro = df_desempenho_genero[\"Gênero\"].str.match('Masculino') | df_desempenho_genero[\"Gênero\"].str.match('Feminino') \n",
    "df_genero = df_desempenho_genero[filtro]\n",
    "df_genero"
   ]
  },
  {
   "cell_type": "code",
   "execution_count": 54,
   "metadata": {},
   "outputs": [
    {
     "data": {
      "text/plain": [
       "Text(0.5, 1.0, 'Proficiência em matemática dos alunos do 9º ano da rede pública do RJ de acordo com o gênero')"
      ]
     },
     "execution_count": 54,
     "metadata": {},
     "output_type": "execute_result"
    },
    {
     "data": {
      "image/png": "[encoded data removed]",
      "text/plain": [
       "<Figure size 800x800 with 1 Axes>"
      ]
     },
     "metadata": {},
     "output_type": "display_data"
    }
   ],
   "source": [
    "plt.figure(figsize=(8, 8))\n",
    "sns.violinplot(data = df_genero, y = 'Proficiência em matemática', hue = 'Gênero', palette = 'viridis')\n",
    "plt.xlabel('')\n",
    "plt.ylabel('proficiência em matemática')\n",
    "plt.title('Proficiência em matemática dos alunos do 9º ano da rede pública do RJ de acordo com o gênero', fontsize = 12)"
   ]
  },
  {
   "cell_type": "markdown",
   "metadata": {},
   "source": [
    "De acordo com a visualização acima, os alunos apresentam melhor desempenho em matemática do que as alunas. A maior parte deles obtiveram uma proficiência nesta disciplina entre 250 e 300, enquanto o índice de proficiência mais recorrente entre as alunas se encontra abaixo de 250."
   ]
  },
  {
   "cell_type": "markdown",
   "metadata": {},
   "source": [
    "### Trabalhando com a base de dados do Inse (Indicador do nível socioeconômico do Saeb) de 2021"
   ]
  },
  {
   "cell_type": "code",
   "execution_count": 55,
   "metadata": {},
   "outputs": [],
   "source": [
    "colunas = ['NO_UF', 'NO_MUNICIPIO', 'TP_TIPO_REDE', 'TP_CAPITAL', 'MEDIA_INSE', 'INSE_CLASSIFICACAO']"
   ]
  },
  {
   "cell_type": "code",
   "execution_count": 56,
   "metadata": {},
   "outputs": [
    {
     "data": {
      "text/html": [
       "<div>\n",
       "<style scoped>\n",
       "    .dataframe tbody tr th:only-of-type {\n",
       "        vertical-align: middle;\n",
       "    }\n",
       "\n",
       "    .dataframe tbody tr th {\n",
       "        vertical-align: top;\n",
       "    }\n",
       "\n",
       "    .dataframe thead th {\n",
       "        text-align: right;\n",
       "    }\n",
       "</style>\n",
       "<table border=\"1\" class=\"dataframe\">\n",
       "  <thead>\n",
       "    <tr style=\"text-align: right;\">\n",
       "      <th></th>\n",
       "      <th>NO_UF</th>\n",
       "      <th>NO_MUNICIPIO</th>\n",
       "      <th>TP_TIPO_REDE</th>\n",
       "      <th>TP_CAPITAL</th>\n",
       "      <th>MEDIA_INSE</th>\n",
       "      <th>INSE_CLASSIFICACAO</th>\n",
       "    </tr>\n",
       "  </thead>\n",
       "  <tbody>\n",
       "    <tr>\n",
       "      <th>0</th>\n",
       "      <td>Rondônia</td>\n",
       "      <td>Alta Floresta D'Oeste</td>\n",
       "      <td>3</td>\n",
       "      <td>2</td>\n",
       "      <td>4.74</td>\n",
       "      <td>Nível IV</td>\n",
       "    </tr>\n",
       "    <tr>\n",
       "      <th>1</th>\n",
       "      <td>Rondônia</td>\n",
       "      <td>Alta Floresta D'Oeste</td>\n",
       "      <td>3</td>\n",
       "      <td>2</td>\n",
       "      <td>4.84</td>\n",
       "      <td>Nível IV</td>\n",
       "    </tr>\n",
       "    <tr>\n",
       "      <th>2</th>\n",
       "      <td>Rondônia</td>\n",
       "      <td>Alta Floresta D'Oeste</td>\n",
       "      <td>2</td>\n",
       "      <td>2</td>\n",
       "      <td>4.75</td>\n",
       "      <td>Nível IV</td>\n",
       "    </tr>\n",
       "    <tr>\n",
       "      <th>3</th>\n",
       "      <td>Rondônia</td>\n",
       "      <td>Alta Floresta D'Oeste</td>\n",
       "      <td>3</td>\n",
       "      <td>2</td>\n",
       "      <td>4.97</td>\n",
       "      <td>Nível IV</td>\n",
       "    </tr>\n",
       "    <tr>\n",
       "      <th>4</th>\n",
       "      <td>Rondônia</td>\n",
       "      <td>Alta Floresta D'Oeste</td>\n",
       "      <td>2</td>\n",
       "      <td>2</td>\n",
       "      <td>5.13</td>\n",
       "      <td>Nível V</td>\n",
       "    </tr>\n",
       "    <tr>\n",
       "      <th>...</th>\n",
       "      <td>...</td>\n",
       "      <td>...</td>\n",
       "      <td>...</td>\n",
       "      <td>...</td>\n",
       "      <td>...</td>\n",
       "      <td>...</td>\n",
       "    </tr>\n",
       "    <tr>\n",
       "      <th>69815</th>\n",
       "      <td>Distrito Federal</td>\n",
       "      <td>Brasília</td>\n",
       "      <td>2</td>\n",
       "      <td>1</td>\n",
       "      <td>5.09</td>\n",
       "      <td>Nível V</td>\n",
       "    </tr>\n",
       "    <tr>\n",
       "      <th>69816</th>\n",
       "      <td>Distrito Federal</td>\n",
       "      <td>Brasília</td>\n",
       "      <td>2</td>\n",
       "      <td>1</td>\n",
       "      <td>4.92</td>\n",
       "      <td>Nível IV</td>\n",
       "    </tr>\n",
       "    <tr>\n",
       "      <th>69817</th>\n",
       "      <td>Distrito Federal</td>\n",
       "      <td>Brasília</td>\n",
       "      <td>2</td>\n",
       "      <td>1</td>\n",
       "      <td>5.20</td>\n",
       "      <td>Nível V</td>\n",
       "    </tr>\n",
       "    <tr>\n",
       "      <th>69818</th>\n",
       "      <td>Distrito Federal</td>\n",
       "      <td>Brasília</td>\n",
       "      <td>2</td>\n",
       "      <td>1</td>\n",
       "      <td>5.03</td>\n",
       "      <td>Nível V</td>\n",
       "    </tr>\n",
       "    <tr>\n",
       "      <th>69819</th>\n",
       "      <td>Distrito Federal</td>\n",
       "      <td>Brasília</td>\n",
       "      <td>2</td>\n",
       "      <td>1</td>\n",
       "      <td>5.25</td>\n",
       "      <td>Nível V</td>\n",
       "    </tr>\n",
       "  </tbody>\n",
       "</table>\n",
       "<p>69820 rows × 6 columns</p>\n",
       "</div>"
      ],
      "text/plain": [
       "                  NO_UF           NO_MUNICIPIO  TP_TIPO_REDE  TP_CAPITAL  \\\n",
       "0              Rondônia  Alta Floresta D'Oeste             3           2   \n",
       "1              Rondônia  Alta Floresta D'Oeste             3           2   \n",
       "2              Rondônia  Alta Floresta D'Oeste             2           2   \n",
       "3              Rondônia  Alta Floresta D'Oeste             3           2   \n",
       "4              Rondônia  Alta Floresta D'Oeste             2           2   \n",
       "...                 ...                    ...           ...         ...   \n",
       "69815  Distrito Federal               Brasília             2           1   \n",
       "69816  Distrito Federal               Brasília             2           1   \n",
       "69817  Distrito Federal               Brasília             2           1   \n",
       "69818  Distrito Federal               Brasília             2           1   \n",
       "69819  Distrito Federal               Brasília             2           1   \n",
       "\n",
       "       MEDIA_INSE INSE_CLASSIFICACAO  \n",
       "0            4.74           Nível IV  \n",
       "1            4.84           Nível IV  \n",
       "2            4.75           Nível IV  \n",
       "3            4.97           Nível IV  \n",
       "4            5.13            Nível V  \n",
       "...           ...                ...  \n",
       "69815        5.09            Nível V  \n",
       "69816        4.92           Nível IV  \n",
       "69817        5.20            Nível V  \n",
       "69818        5.03            Nível V  \n",
       "69819        5.25            Nível V  \n",
       "\n",
       "[69820 rows x 6 columns]"
      ]
     },
     "execution_count": 56,
     "metadata": {},
     "output_type": "execute_result"
    }
   ],
   "source": [
    "df_inse = pd.read_excel('INSE_2021_escolas.xlsx', sheet_name = 'INSE_ESC_2021', usecols = colunas)\n",
    "df_inse"
   ]
  },
  {
   "cell_type": "code",
   "execution_count": 57,
   "metadata": {},
   "outputs": [
    {
     "name": "stdout",
     "output_type": "stream",
     "text": [
      "<class 'pandas.core.frame.DataFrame'>\n",
      "RangeIndex: 69820 entries, 0 to 69819\n",
      "Data columns (total 6 columns):\n",
      " #   Column              Non-Null Count  Dtype  \n",
      "---  ------              --------------  -----  \n",
      " 0   NO_UF               69820 non-null  object \n",
      " 1   NO_MUNICIPIO        69820 non-null  object \n",
      " 2   TP_TIPO_REDE        69820 non-null  int64  \n",
      " 3   TP_CAPITAL          69820 non-null  int64  \n",
      " 4   MEDIA_INSE          69820 non-null  float64\n",
      " 5   INSE_CLASSIFICACAO  69820 non-null  object \n",
      "dtypes: float64(1), int64(2), object(3)\n",
      "memory usage: 3.2+ MB\n"
     ]
    }
   ],
   "source": [
    "df_inse.info()"
   ]
  },
  {
   "cell_type": "code",
   "execution_count": 58,
   "metadata": {},
   "outputs": [],
   "source": [
    "df_inse.columns = ['UF', 'Município', 'Tipo de rede', 'Localização', 'Média_Inse', 'Classificação_Inse']"
   ]
  },
  {
   "cell_type": "code",
   "execution_count": 59,
   "metadata": {},
   "outputs": [],
   "source": [
    "df_inse['Tipo de rede'] = df_inse['Tipo de rede'].replace({1 : 'Federal', 2 : 'Estadual', 3 : 'Municipal'})"
   ]
  },
  {
   "cell_type": "code",
   "execution_count": 60,
   "metadata": {},
   "outputs": [],
   "source": [
    "df_inse['Localização'] = df_inse['Localização'].replace({1 : 'Capital', 2 : 'Interior'})"
   ]
  },
  {
   "cell_type": "code",
   "execution_count": 61,
   "metadata": {},
   "outputs": [
    {
     "data": {
      "text/html": [
       "<div>\n",
       "<style scoped>\n",
       "    .dataframe tbody tr th:only-of-type {\n",
       "        vertical-align: middle;\n",
       "    }\n",
       "\n",
       "    .dataframe tbody tr th {\n",
       "        vertical-align: top;\n",
       "    }\n",
       "\n",
       "    .dataframe thead th {\n",
       "        text-align: right;\n",
       "    }\n",
       "</style>\n",
       "<table border=\"1\" class=\"dataframe\">\n",
       "  <thead>\n",
       "    <tr style=\"text-align: right;\">\n",
       "      <th></th>\n",
       "      <th>UF</th>\n",
       "      <th>Município</th>\n",
       "      <th>Tipo de rede</th>\n",
       "      <th>Localização</th>\n",
       "      <th>Média_Inse</th>\n",
       "      <th>Classificação_Inse</th>\n",
       "    </tr>\n",
       "  </thead>\n",
       "  <tbody>\n",
       "    <tr>\n",
       "      <th>0</th>\n",
       "      <td>Rondônia</td>\n",
       "      <td>Alta Floresta D'Oeste</td>\n",
       "      <td>Municipal</td>\n",
       "      <td>Interior</td>\n",
       "      <td>4.74</td>\n",
       "      <td>Nível IV</td>\n",
       "    </tr>\n",
       "    <tr>\n",
       "      <th>1</th>\n",
       "      <td>Rondônia</td>\n",
       "      <td>Alta Floresta D'Oeste</td>\n",
       "      <td>Municipal</td>\n",
       "      <td>Interior</td>\n",
       "      <td>4.84</td>\n",
       "      <td>Nível IV</td>\n",
       "    </tr>\n",
       "    <tr>\n",
       "      <th>2</th>\n",
       "      <td>Rondônia</td>\n",
       "      <td>Alta Floresta D'Oeste</td>\n",
       "      <td>Estadual</td>\n",
       "      <td>Interior</td>\n",
       "      <td>4.75</td>\n",
       "      <td>Nível IV</td>\n",
       "    </tr>\n",
       "    <tr>\n",
       "      <th>3</th>\n",
       "      <td>Rondônia</td>\n",
       "      <td>Alta Floresta D'Oeste</td>\n",
       "      <td>Municipal</td>\n",
       "      <td>Interior</td>\n",
       "      <td>4.97</td>\n",
       "      <td>Nível IV</td>\n",
       "    </tr>\n",
       "    <tr>\n",
       "      <th>4</th>\n",
       "      <td>Rondônia</td>\n",
       "      <td>Alta Floresta D'Oeste</td>\n",
       "      <td>Estadual</td>\n",
       "      <td>Interior</td>\n",
       "      <td>5.13</td>\n",
       "      <td>Nível V</td>\n",
       "    </tr>\n",
       "    <tr>\n",
       "      <th>...</th>\n",
       "      <td>...</td>\n",
       "      <td>...</td>\n",
       "      <td>...</td>\n",
       "      <td>...</td>\n",
       "      <td>...</td>\n",
       "      <td>...</td>\n",
       "    </tr>\n",
       "    <tr>\n",
       "      <th>69815</th>\n",
       "      <td>Distrito Federal</td>\n",
       "      <td>Brasília</td>\n",
       "      <td>Estadual</td>\n",
       "      <td>Capital</td>\n",
       "      <td>5.09</td>\n",
       "      <td>Nível V</td>\n",
       "    </tr>\n",
       "    <tr>\n",
       "      <th>69816</th>\n",
       "      <td>Distrito Federal</td>\n",
       "      <td>Brasília</td>\n",
       "      <td>Estadual</td>\n",
       "      <td>Capital</td>\n",
       "      <td>4.92</td>\n",
       "      <td>Nível IV</td>\n",
       "    </tr>\n",
       "    <tr>\n",
       "      <th>69817</th>\n",
       "      <td>Distrito Federal</td>\n",
       "      <td>Brasília</td>\n",
       "      <td>Estadual</td>\n",
       "      <td>Capital</td>\n",
       "      <td>5.20</td>\n",
       "      <td>Nível V</td>\n",
       "    </tr>\n",
       "    <tr>\n",
       "      <th>69818</th>\n",
       "      <td>Distrito Federal</td>\n",
       "      <td>Brasília</td>\n",
       "      <td>Estadual</td>\n",
       "      <td>Capital</td>\n",
       "      <td>5.03</td>\n",
       "      <td>Nível V</td>\n",
       "    </tr>\n",
       "    <tr>\n",
       "      <th>69819</th>\n",
       "      <td>Distrito Federal</td>\n",
       "      <td>Brasília</td>\n",
       "      <td>Estadual</td>\n",
       "      <td>Capital</td>\n",
       "      <td>5.25</td>\n",
       "      <td>Nível V</td>\n",
       "    </tr>\n",
       "  </tbody>\n",
       "</table>\n",
       "<p>69820 rows × 6 columns</p>\n",
       "</div>"
      ],
      "text/plain": [
       "                     UF              Município Tipo de rede Localização  \\\n",
       "0              Rondônia  Alta Floresta D'Oeste    Municipal    Interior   \n",
       "1              Rondônia  Alta Floresta D'Oeste    Municipal    Interior   \n",
       "2              Rondônia  Alta Floresta D'Oeste     Estadual    Interior   \n",
       "3              Rondônia  Alta Floresta D'Oeste    Municipal    Interior   \n",
       "4              Rondônia  Alta Floresta D'Oeste     Estadual    Interior   \n",
       "...                 ...                    ...          ...         ...   \n",
       "69815  Distrito Federal               Brasília     Estadual     Capital   \n",
       "69816  Distrito Federal               Brasília     Estadual     Capital   \n",
       "69817  Distrito Federal               Brasília     Estadual     Capital   \n",
       "69818  Distrito Federal               Brasília     Estadual     Capital   \n",
       "69819  Distrito Federal               Brasília     Estadual     Capital   \n",
       "\n",
       "       Média_Inse Classificação_Inse  \n",
       "0            4.74           Nível IV  \n",
       "1            4.84           Nível IV  \n",
       "2            4.75           Nível IV  \n",
       "3            4.97           Nível IV  \n",
       "4            5.13            Nível V  \n",
       "...           ...                ...  \n",
       "69815        5.09            Nível V  \n",
       "69816        4.92           Nível IV  \n",
       "69817        5.20            Nível V  \n",
       "69818        5.03            Nível V  \n",
       "69819        5.25            Nível V  \n",
       "\n",
       "[69820 rows x 6 columns]"
      ]
     },
     "execution_count": 61,
     "metadata": {},
     "output_type": "execute_result"
    }
   ],
   "source": [
    "df_inse"
   ]
  },
  {
   "cell_type": "markdown",
   "metadata": {},
   "source": [
    "#### Analisando a dataframe que contém apenas os dados do estado do RJ "
   ]
  },
  {
   "cell_type": "code",
   "execution_count": 62,
   "metadata": {},
   "outputs": [
    {
     "data": {
      "text/html": [
       "<div>\n",
       "<style scoped>\n",
       "    .dataframe tbody tr th:only-of-type {\n",
       "        vertical-align: middle;\n",
       "    }\n",
       "\n",
       "    .dataframe tbody tr th {\n",
       "        vertical-align: top;\n",
       "    }\n",
       "\n",
       "    .dataframe thead th {\n",
       "        text-align: right;\n",
       "    }\n",
       "</style>\n",
       "<table border=\"1\" class=\"dataframe\">\n",
       "  <thead>\n",
       "    <tr style=\"text-align: right;\">\n",
       "      <th></th>\n",
       "      <th>UF</th>\n",
       "      <th>Município</th>\n",
       "      <th>Tipo de rede</th>\n",
       "      <th>Localização</th>\n",
       "      <th>Média_Inse</th>\n",
       "      <th>Classificação_Inse</th>\n",
       "    </tr>\n",
       "  </thead>\n",
       "  <tbody>\n",
       "    <tr>\n",
       "      <th>40013</th>\n",
       "      <td>Rio de Janeiro</td>\n",
       "      <td>Angra dos Reis</td>\n",
       "      <td>Estadual</td>\n",
       "      <td>Interior</td>\n",
       "      <td>4.95</td>\n",
       "      <td>Nível IV</td>\n",
       "    </tr>\n",
       "    <tr>\n",
       "      <th>40014</th>\n",
       "      <td>Rio de Janeiro</td>\n",
       "      <td>Angra dos Reis</td>\n",
       "      <td>Estadual</td>\n",
       "      <td>Interior</td>\n",
       "      <td>4.60</td>\n",
       "      <td>Nível IV</td>\n",
       "    </tr>\n",
       "    <tr>\n",
       "      <th>40015</th>\n",
       "      <td>Rio de Janeiro</td>\n",
       "      <td>Angra dos Reis</td>\n",
       "      <td>Estadual</td>\n",
       "      <td>Interior</td>\n",
       "      <td>4.74</td>\n",
       "      <td>Nível IV</td>\n",
       "    </tr>\n",
       "    <tr>\n",
       "      <th>40016</th>\n",
       "      <td>Rio de Janeiro</td>\n",
       "      <td>Angra dos Reis</td>\n",
       "      <td>Estadual</td>\n",
       "      <td>Interior</td>\n",
       "      <td>5.10</td>\n",
       "      <td>Nível V</td>\n",
       "    </tr>\n",
       "    <tr>\n",
       "      <th>40017</th>\n",
       "      <td>Rio de Janeiro</td>\n",
       "      <td>Angra dos Reis</td>\n",
       "      <td>Estadual</td>\n",
       "      <td>Interior</td>\n",
       "      <td>5.01</td>\n",
       "      <td>Nível V</td>\n",
       "    </tr>\n",
       "    <tr>\n",
       "      <th>...</th>\n",
       "      <td>...</td>\n",
       "      <td>...</td>\n",
       "      <td>...</td>\n",
       "      <td>...</td>\n",
       "      <td>...</td>\n",
       "      <td>...</td>\n",
       "    </tr>\n",
       "    <tr>\n",
       "      <th>44170</th>\n",
       "      <td>Rio de Janeiro</td>\n",
       "      <td>Volta Redonda</td>\n",
       "      <td>Estadual</td>\n",
       "      <td>Interior</td>\n",
       "      <td>4.94</td>\n",
       "      <td>Nível IV</td>\n",
       "    </tr>\n",
       "    <tr>\n",
       "      <th>44171</th>\n",
       "      <td>Rio de Janeiro</td>\n",
       "      <td>Volta Redonda</td>\n",
       "      <td>Estadual</td>\n",
       "      <td>Interior</td>\n",
       "      <td>4.85</td>\n",
       "      <td>Nível IV</td>\n",
       "    </tr>\n",
       "    <tr>\n",
       "      <th>44172</th>\n",
       "      <td>Rio de Janeiro</td>\n",
       "      <td>Volta Redonda</td>\n",
       "      <td>Municipal</td>\n",
       "      <td>Interior</td>\n",
       "      <td>4.86</td>\n",
       "      <td>Nível IV</td>\n",
       "    </tr>\n",
       "    <tr>\n",
       "      <th>44173</th>\n",
       "      <td>Rio de Janeiro</td>\n",
       "      <td>Volta Redonda</td>\n",
       "      <td>Estadual</td>\n",
       "      <td>Interior</td>\n",
       "      <td>5.68</td>\n",
       "      <td>Nível VI</td>\n",
       "    </tr>\n",
       "    <tr>\n",
       "      <th>44174</th>\n",
       "      <td>Rio de Janeiro</td>\n",
       "      <td>Volta Redonda</td>\n",
       "      <td>Municipal</td>\n",
       "      <td>Interior</td>\n",
       "      <td>5.73</td>\n",
       "      <td>Nível VI</td>\n",
       "    </tr>\n",
       "  </tbody>\n",
       "</table>\n",
       "<p>4162 rows × 6 columns</p>\n",
       "</div>"
      ],
      "text/plain": [
       "                   UF       Município Tipo de rede Localização  Média_Inse  \\\n",
       "40013  Rio de Janeiro  Angra dos Reis     Estadual    Interior        4.95   \n",
       "40014  Rio de Janeiro  Angra dos Reis     Estadual    Interior        4.60   \n",
       "40015  Rio de Janeiro  Angra dos Reis     Estadual    Interior        4.74   \n",
       "40016  Rio de Janeiro  Angra dos Reis     Estadual    Interior        5.10   \n",
       "40017  Rio de Janeiro  Angra dos Reis     Estadual    Interior        5.01   \n",
       "...               ...             ...          ...         ...         ...   \n",
       "44170  Rio de Janeiro   Volta Redonda     Estadual    Interior        4.94   \n",
       "44171  Rio de Janeiro   Volta Redonda     Estadual    Interior        4.85   \n",
       "44172  Rio de Janeiro   Volta Redonda    Municipal    Interior        4.86   \n",
       "44173  Rio de Janeiro   Volta Redonda     Estadual    Interior        5.68   \n",
       "44174  Rio de Janeiro   Volta Redonda    Municipal    Interior        5.73   \n",
       "\n",
       "      Classificação_Inse  \n",
       "40013           Nível IV  \n",
       "40014           Nível IV  \n",
       "40015           Nível IV  \n",
       "40016            Nível V  \n",
       "40017            Nível V  \n",
       "...                  ...  \n",
       "44170           Nível IV  \n",
       "44171           Nível IV  \n",
       "44172           Nível IV  \n",
       "44173           Nível VI  \n",
       "44174           Nível VI  \n",
       "\n",
       "[4162 rows x 6 columns]"
      ]
     },
     "execution_count": 62,
     "metadata": {},
     "output_type": "execute_result"
    }
   ],
   "source": [
    "df_inse_rj = df_inse[df_inse['UF'].str.match('Rio de Janeiro')]\n",
    "df_inse_rj"
   ]
  },
  {
   "cell_type": "code",
   "execution_count": 63,
   "metadata": {},
   "outputs": [],
   "source": [
    "df_inse_rj.to_csv(\"df_INSE_RJ_tratada.csv\")"
   ]
  },
  {
   "cell_type": "code",
   "execution_count": 64,
   "metadata": {},
   "outputs": [
    {
     "data": {
      "text/plain": [
       "Tipo de rede\n",
       "Municipal    0.723210\n",
       "Estadual     0.273426\n",
       "Federal      0.003364\n",
       "Name: proportion, dtype: float64"
      ]
     },
     "execution_count": 64,
     "metadata": {},
     "output_type": "execute_result"
    }
   ],
   "source": [
    "df_inse_rj['Tipo de rede'].value_counts(normalize=True)"
   ]
  },
  {
   "cell_type": "code",
   "execution_count": 65,
   "metadata": {},
   "outputs": [
    {
     "data": {
      "text/plain": [
       "Tipo de rede\n",
       "Estadual     4.909675\n",
       "Federal      5.440714\n",
       "Municipal    4.886990\n",
       "Name: Média_Inse, dtype: float64"
      ]
     },
     "execution_count": 65,
     "metadata": {},
     "output_type": "execute_result"
    }
   ],
   "source": [
    "agrupado = df_inse_rj.groupby('Tipo de rede')\n",
    "agrupado['Média_Inse'].mean()"
   ]
  },
  {
   "cell_type": "code",
   "execution_count": 77,
   "metadata": {},
   "outputs": [
    {
     "data": {
      "text/plain": [
       "Text(0.5, 1.0, 'Média Inse da rede pública do estado do RJ')"
      ]
     },
     "execution_count": 77,
     "metadata": {},
     "output_type": "execute_result"
    },
    {
     "data": {
      "image/png": "[encoded data removed]",
      "text/plain": [
       "<Figure size 800x600 with 1 Axes>"
      ]
     },
     "metadata": {},
     "output_type": "display_data"
    }
   ],
   "source": [
    "plt.figure(figsize=(8, 6))\n",
    "sns.boxplot(data = df_inse_rj, x = 'Tipo de rede', hue= 'Localização', y = 'Média_Inse', palette = 'plasma')\n",
    "plt.xlabel('')\n",
    "plt.ylabel('média')\n",
    "plt.title('Média Inse da rede pública do estado do RJ', fontsize = 12)"
   ]
  },
  {
   "cell_type": "markdown",
   "metadata": {},
   "source": [
    "A maior parte das escolas da rede pública do estado do RJ são municipais (72%), enquanto as federais representam uma parcela mínima desta rede (0,3%, totalizando apenas 14 escolas). No gráfico acima, observamos que as escolas estaduais e as municipais apresentam uma média Inse próxima, embora as municipais tenham a média menor. Já as federais se destacam, com boa parte das escolas apresentando uma média acima de 5, diferentemente das municipais  estaduais, que têm média abaixo de 5. Também percebemos que, em toda a rede pública, as escolas localizadas na capital (Rio de Janeiro) apresentam um Inse maior que as localizadas no interior, especialmente entre as federais, grupo em que a diferença do índice entre essas duas localidades é maior.   "
   ]
  }
 ],
 "metadata": {
  "kernelspec": {
   "display_name": "Python 3",
   "language": "python",
   "name": "python3"
  },
  "language_info": {
   "codemirror_mode": {
    "name": "ipython",
    "version": 3
   },
   "file_extension": ".py",
   "mimetype": "text/x-python",
   "name": "python",
   "nbconvert_exporter": "python",
   "pygments_lexer": "ipython3",
   "version": "3.11.1"
  }
 },
 "nbformat": 4,
 "nbformat_minor": 2
}
